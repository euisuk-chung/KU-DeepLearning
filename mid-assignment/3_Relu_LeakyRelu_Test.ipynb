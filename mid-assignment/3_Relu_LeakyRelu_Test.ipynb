{
 "cells": [
  {
   "cell_type": "markdown",
   "id": "3fd7542f",
   "metadata": {},
   "source": [
    "# Comparing ReLU and Leaky ReLU\n",
    "## Question 3\n",
    "`ReLu`와 `leaky ReLu` 활성함수를 적용한 예제를 통하여 두가지 활성함수를 비교 분석합니다."
   ]
  },
  {
   "cell_type": "code",
   "execution_count": 1,
   "id": "f21ea6f6",
   "metadata": {},
   "outputs": [],
   "source": [
    "import math\n",
    "import matplotlib.pyplot as plt\n",
    "import numpy as np\n",
    "import time"
   ]
  },
  {
   "cell_type": "markdown",
   "id": "c1c01192",
   "metadata": {},
   "source": [
    "### 3-1 Relu\n",
    "- `ReLu`에 대하여 살펴봅니다.\n",
    "\n",
    "$$f(x) = max(0,x)$$\n",
    "\n",
    "- x가 0보다 크면 기울기가 1인 직선, 0보다 작으면 함수 값이 0이 됨\n",
    "- 하지만, 이는 0보다 작은 값들에서 뉴런이 죽을 수 있는 단점을 야기함"
   ]
  },
  {
   "cell_type": "code",
   "execution_count": 2,
   "id": "e79290be",
   "metadata": {},
   "outputs": [],
   "source": [
    "# ReLU Function\n",
    "def ReLU(x):\n",
    "    arr = []\n",
    "    for i in x:\n",
    "        if i<0:\n",
    "            arr.append(0)\n",
    "        else:\n",
    "            arr.append(i)\n",
    "    return arr"
   ]
  },
  {
   "cell_type": "markdown",
   "id": "7ecb9004",
   "metadata": {},
   "source": [
    "### 3-2 Leaky ReLu\n",
    "- `leaky ReLu`에 대하여 살펴봅니다.\n",
    "\n",
    "$$f(x) = max(λ*x,x)$$\n",
    "$$λ는 매우 작은 값이라면 무엇이든 사용 가능함.$$\n",
    "\n",
    "- Leaky ReLU는 ReLU가 갖는 Dying ReLU(뉴런이 죽는 현상) 을 해결하기 위해 나온 함수임\n",
    "- Leaky ReLU는 x가 음수인 영역의 값에 대해 미분값이 0이 되지 않는다는 점을 제외하면 ReLU와 동일함"
   ]
  },
  {
   "cell_type": "code",
   "execution_count": 3,
   "id": "9a9f0b4b",
   "metadata": {},
   "outputs": [],
   "source": [
    "# Leaky ReLU Function\n",
    "def LeakyReLU(x, alpha):\n",
    "    arr = []\n",
    "    for i in x:\n",
    "        if i<0:\n",
    "            arr.append(alpha*i)\n",
    "        else:\n",
    "            arr.append(i)\n",
    "    return arr"
   ]
  },
  {
   "cell_type": "markdown",
   "id": "53c494ba",
   "metadata": {},
   "source": [
    "### 3-3 Compare"
   ]
  },
  {
   "cell_type": "markdown",
   "id": "6e5591fe",
   "metadata": {},
   "source": [
    "**Visualization**"
   ]
  },
  {
   "cell_type": "code",
   "execution_count": 4,
   "id": "06c9e1e7",
   "metadata": {},
   "outputs": [],
   "source": [
    "# Determining the intervals to be created for the graph\n",
    "x = np.arange(-3., 3., 0.1)\n",
    "\n",
    "relu = ReLU(x)\n",
    "leaky_relu = LeakyReLU(x, 0.1)"
   ]
  },
  {
   "cell_type": "code",
   "execution_count": 5,
   "id": "f4591d53",
   "metadata": {},
   "outputs": [
    {
     "data": {
      "image/png": "[encoded data removed]",
      "text/plain": [
       "<Figure size 432x288 with 1 Axes>"
      ]
     },
     "metadata": {
      "needs_background": "light"
     },
     "output_type": "display_data"
    }
   ],
   "source": [
    "line_1 = plt.plot(x,relu, label='ReLU')\n",
    "line_2 = plt.plot(x,leaky_relu, label='Leaky ReLU')\n",
    "\n",
    "plt.legend()\n",
    "plt.xlim(-3,3)\n",
    "plt.ylim(-1,3)\n",
    "plt.show()"
   ]
  },
  {
   "cell_type": "markdown",
   "id": "4014931e",
   "metadata": {},
   "source": [
    "**Model Result Comparision**\n",
    "\n",
    "- MNIST 데이터 사용\n",
    "- model은 이전 question1에서 사용한 모델과 동일한 모델을 사용합니다(Non-BatchNorm)"
   ]
  },
  {
   "cell_type": "code",
   "execution_count": 6,
   "id": "6f8906be",
   "metadata": {},
   "outputs": [],
   "source": [
    "# import dataset\n",
    "from tensorflow.keras.datasets import mnist\n",
    "\n",
    "# Artificial Neural Network\n",
    "import tensorflow as tf\n",
    "from tensorflow.keras.models import Sequential\n",
    "from tensorflow.keras.layers import Activation, Dense, Dropout\n",
    "from tensorflow.keras.optimizers import SGD, RMSprop, Adam\n",
    "from tensorflow.keras.utils import to_categorical\n",
    "from tensorflow.keras.layers import LeakyReLU, ReLU\n",
    "\n",
    "# load dataset\n",
    "(x_train, y_train),(x_test, y_test) = mnist.load_data()\n",
    "\n",
    "# label counts\n",
    "num_labels = len(np.unique(y_train))\n",
    "\n",
    "# one-hot encoding\n",
    "y_train = to_categorical(y_train)\n",
    "y_test = to_categorical(y_test)\n",
    "\n",
    "# image dimensions\n",
    "image_size = x_train.shape[1]\n",
    "input_size = image_size * image_size\n",
    "\n",
    "# resize and normalize\n",
    "x_train = np.reshape(x_train, [-1, input_size])\n",
    "x_test = np.reshape(x_test, [-1, input_size])"
   ]
  },
  {
   "cell_type": "code",
   "execution_count": 7,
   "id": "40d15c32",
   "metadata": {},
   "outputs": [],
   "source": [
    "# set parameters\n",
    "batch_size = 128\n",
    "hidden_units = 300\n",
    "dropout = 0.3\n",
    "epoch = 50"
   ]
  },
  {
   "cell_type": "code",
   "execution_count": 8,
   "id": "58dc8a2a",
   "metadata": {},
   "outputs": [],
   "source": [
    "epochs = np.arange(1,epoch+1)"
   ]
  },
  {
   "cell_type": "code",
   "execution_count": 9,
   "id": "a903ce22",
   "metadata": {},
   "outputs": [],
   "source": [
    "# RELU MODEL\n",
    "model_ReLU = Sequential()\n",
    "\n",
    "# 1st Layer\n",
    "model_ReLU.add(Dense(hidden_units, input_dim=input_size))\n",
    "model_ReLU.add(ReLU())\n",
    "model_ReLU.add(Dropout(dropout))\n",
    "\n",
    "# 2nd Layer\n",
    "model_ReLU.add(Dense(hidden_units))\n",
    "model_ReLU.add(ReLU())\n",
    "model_ReLU.add(Dropout(dropout))\n",
    "\n",
    "# 2nd Layer\n",
    "model_ReLU.add(Dense(num_labels))\n",
    "model_ReLU.add(Activation('softmax'))\n",
    "\n",
    "# 모형 컴파일(RELU)\n",
    "model_ReLU.compile(loss='categorical_crossentropy', \n",
    "              optimizer='adam', \n",
    "              metrics=['accuracy'])"
   ]
  },
  {
   "cell_type": "code",
   "execution_count": 10,
   "id": "a36f7e5b",
   "metadata": {
    "scrolled": true
   },
   "outputs": [
    {
     "name": "stdout",
     "output_type": "stream",
     "text": [
      "Epoch 1/50\n",
      "469/469 [==============================] - 1s 2ms/step - loss: 4.0775 - accuracy: 0.7593\n",
      "Epoch 2/50\n",
      "469/469 [==============================] - 1s 2ms/step - loss: 0.7635 - accuracy: 0.8399\n",
      "Epoch 3/50\n",
      "469/469 [==============================] - 1s 2ms/step - loss: 0.5694 - accuracy: 0.8766\n",
      "Epoch 4/50\n",
      "469/469 [==============================] - 1s 2ms/step - loss: 0.4597 - accuracy: 0.8959\n",
      "Epoch 5/50\n",
      "469/469 [==============================] - 1s 2ms/step - loss: 0.3804 - accuracy: 0.9110\n",
      "Epoch 6/50\n",
      "469/469 [==============================] - 1s 2ms/step - loss: 0.3157 - accuracy: 0.9232\n",
      "Epoch 7/50\n",
      "469/469 [==============================] - 1s 2ms/step - loss: 0.2761 - accuracy: 0.9323\n",
      "Epoch 8/50\n",
      "469/469 [==============================] - 1s 2ms/step - loss: 0.2467 - accuracy: 0.9374\n",
      "Epoch 9/50\n",
      "469/469 [==============================] - 1s 3ms/step - loss: 0.2234 - accuracy: 0.9426\n",
      "Epoch 10/50\n",
      "469/469 [==============================] - 1s 2ms/step - loss: 0.2093 - accuracy: 0.9437\n",
      "Epoch 11/50\n",
      "469/469 [==============================] - 1s 2ms/step - loss: 0.1966 - accuracy: 0.9480\n",
      "Epoch 12/50\n",
      "469/469 [==============================] - 1s 3ms/step - loss: 0.1933 - accuracy: 0.9490\n",
      "Epoch 13/50\n",
      "469/469 [==============================] - 1s 3ms/step - loss: 0.1864 - accuracy: 0.9509\n",
      "Epoch 14/50\n",
      "469/469 [==============================] - 1s 3ms/step - loss: 0.1852 - accuracy: 0.9518\n",
      "Epoch 15/50\n",
      "469/469 [==============================] - 1s 2ms/step - loss: 0.1741 - accuracy: 0.9546\n",
      "Epoch 16/50\n",
      "469/469 [==============================] - 1s 2ms/step - loss: 0.1707 - accuracy: 0.9543\n",
      "Epoch 17/50\n",
      "469/469 [==============================] - 1s 2ms/step - loss: 0.1728 - accuracy: 0.9547\n",
      "Epoch 18/50\n",
      "469/469 [==============================] - 1s 2ms/step - loss: 0.1593 - accuracy: 0.9577\n",
      "Epoch 19/50\n",
      "469/469 [==============================] - 1s 2ms/step - loss: 0.1658 - accuracy: 0.9577\n",
      "Epoch 20/50\n",
      "469/469 [==============================] - 1s 2ms/step - loss: 0.1668 - accuracy: 0.9565\n",
      "Epoch 21/50\n",
      "469/469 [==============================] - 1s 2ms/step - loss: 0.1572 - accuracy: 0.9582\n",
      "Epoch 22/50\n",
      "469/469 [==============================] - 1s 2ms/step - loss: 0.1601 - accuracy: 0.9597\n",
      "Epoch 23/50\n",
      "469/469 [==============================] - 1s 2ms/step - loss: 0.1440 - accuracy: 0.9620\n",
      "Epoch 24/50\n",
      "469/469 [==============================] - 1s 2ms/step - loss: 0.1480 - accuracy: 0.9615\n",
      "Epoch 25/50\n",
      "469/469 [==============================] - 1s 2ms/step - loss: 0.1396 - accuracy: 0.9634\n",
      "Epoch 26/50\n",
      "469/469 [==============================] - 1s 2ms/step - loss: 0.1446 - accuracy: 0.9634\n",
      "Epoch 27/50\n",
      "469/469 [==============================] - 1s 2ms/step - loss: 0.1413 - accuracy: 0.9629\n",
      "Epoch 28/50\n",
      "469/469 [==============================] - 1s 2ms/step - loss: 0.1461 - accuracy: 0.9631\n",
      "Epoch 29/50\n",
      "469/469 [==============================] - 1s 2ms/step - loss: 0.1393 - accuracy: 0.9646\n",
      "Epoch 30/50\n",
      "469/469 [==============================] - 1s 2ms/step - loss: 0.1293 - accuracy: 0.9668\n",
      "Epoch 31/50\n",
      "469/469 [==============================] - 1s 3ms/step - loss: 0.1379 - accuracy: 0.9648\n",
      "Epoch 32/50\n",
      "469/469 [==============================] - 1s 2ms/step - loss: 0.1313 - accuracy: 0.9650\n",
      "Epoch 33/50\n",
      "469/469 [==============================] - 1s 2ms/step - loss: 0.1266 - accuracy: 0.9671\n",
      "Epoch 34/50\n",
      "469/469 [==============================] - 1s 2ms/step - loss: 0.1286 - accuracy: 0.9673\n",
      "Epoch 35/50\n",
      "469/469 [==============================] - 1s 2ms/step - loss: 0.1290 - accuracy: 0.9673\n",
      "Epoch 36/50\n",
      "469/469 [==============================] - 1s 2ms/step - loss: 0.1205 - accuracy: 0.9689\n",
      "Epoch 37/50\n",
      "469/469 [==============================] - 1s 2ms/step - loss: 0.1258 - accuracy: 0.9687\n",
      "Epoch 38/50\n",
      "469/469 [==============================] - 1s 2ms/step - loss: 0.1258 - accuracy: 0.9678\n",
      "Epoch 39/50\n",
      "469/469 [==============================] - 1s 2ms/step - loss: 0.1236 - accuracy: 0.9684\n",
      "Epoch 40/50\n",
      "469/469 [==============================] - 1s 2ms/step - loss: 0.1172 - accuracy: 0.9694\n",
      "Epoch 41/50\n",
      "469/469 [==============================] - 1s 2ms/step - loss: 0.1256 - accuracy: 0.9688\n",
      "Epoch 42/50\n",
      "469/469 [==============================] - 1s 2ms/step - loss: 0.1183 - accuracy: 0.9707\n",
      "Epoch 43/50\n",
      "469/469 [==============================] - 1s 3ms/step - loss: 0.1202 - accuracy: 0.9701\n",
      "Epoch 44/50\n",
      "469/469 [==============================] - 1s 3ms/step - loss: 0.1200 - accuracy: 0.9705\n",
      "Epoch 45/50\n",
      "469/469 [==============================] - 1s 2ms/step - loss: 0.1088 - accuracy: 0.9720\n",
      "Epoch 46/50\n",
      "469/469 [==============================] - 1s 3ms/step - loss: 0.1168 - accuracy: 0.9706\n",
      "Epoch 47/50\n",
      "469/469 [==============================] - 1s 2ms/step - loss: 0.1168 - accuracy: 0.9707\n",
      "Epoch 48/50\n",
      "469/469 [==============================] - 1s 2ms/step - loss: 0.1215 - accuracy: 0.9707\n",
      "Epoch 49/50\n",
      "469/469 [==============================] - 1s 2ms/step - loss: 0.1020 - accuracy: 0.9730\n",
      "Epoch 50/50\n",
      "469/469 [==============================] - 1s 2ms/step - loss: 0.1143 - accuracy: 0.9718\n",
      "56.75183153152466\n"
     ]
    }
   ],
   "source": [
    "# 신경망 학습(ReLU)\n",
    "start = time.time()\n",
    "ReLU_hist = model_ReLU.fit(x_train, y_train, epochs=epoch, batch_size=batch_size)\n",
    "end = time.time()\n",
    "ReLU_time = end-start\n",
    "print(ReLU_time)"
   ]
  },
  {
   "cell_type": "code",
   "execution_count": 16,
   "id": "62ccfd57",
   "metadata": {},
   "outputs": [
    {
     "name": "stdout",
     "output_type": "stream",
     "text": [
      "79/79 [==============================] - 0s 1ms/step - loss: 0.1584 - accuracy: 0.9709\n",
      "\n",
      "Test accuracy : 97.090\n",
      "\n",
      "Test loss :0.15837\n"
     ]
    }
   ],
   "source": [
    "ReLU_loss, ReLU_acc = model_ReLU.evaluate(x_test, y_test, batch_size=batch_size)\n",
    "print(\"\\nTest accuracy : %.3f\" % (100.0 * ReLU_acc))\n",
    "print(\"\\nTest loss :%.5f\" %(ReLU_loss))"
   ]
  },
  {
   "cell_type": "code",
   "execution_count": 11,
   "id": "a8feed06",
   "metadata": {},
   "outputs": [
    {
     "data": {
      "image/png": "[encoded data removed]",
      "text/plain": [
       "<Figure size 720x360 with 2 Axes>"
      ]
     },
     "metadata": {
      "needs_background": "light"
     },
     "output_type": "display_data"
    }
   ],
   "source": [
    "# RELU ACC/LOSS 그래프\n",
    "plt.figure(figsize=(10,5))\n",
    "\n",
    "plt.subplot(1, 2, 1)\n",
    "plt.plot(epochs, ReLU_hist.history['accuracy'], label='accuracy', color = 'b')\n",
    "plt.xlabel('epoch')\n",
    "plt.ylabel('accuracy')\n",
    "plt.title('RELU')\n",
    "plt.legend()\n",
    "\n",
    "plt.subplot(1, 2, 2)\n",
    "plt.plot(epochs, ReLU_hist.history['loss'], label='loss', color = 'r')\n",
    "plt.xlabel('epoch')\n",
    "plt.ylabel('loss')\n",
    "plt.title('RELU')\n",
    "plt.legend()\n",
    "\n",
    "plt.show()"
   ]
  },
  {
   "cell_type": "code",
   "execution_count": 12,
   "id": "6d31f5cf",
   "metadata": {},
   "outputs": [],
   "source": [
    "# Leaky RELU MODEL\n",
    "model_L_ReLU = Sequential()\n",
    "\n",
    "# 1st Layer\n",
    "model_L_ReLU.add(Dense(hidden_units, input_dim=input_size))\n",
    "model_L_ReLU.add(LeakyReLU(alpha=0.1))\n",
    "model_L_ReLU.add(Dropout(dropout))\n",
    "\n",
    "# 2nd Layer\n",
    "model_L_ReLU.add(Dense(hidden_units))\n",
    "model_L_ReLU.add(Activation('relu'))\n",
    "model_L_ReLU.add(Dropout(dropout))\n",
    "\n",
    "# 2nd Layer\n",
    "model_L_ReLU.add(Dense(num_labels))\n",
    "model_L_ReLU.add(Activation('softmax'))\n",
    "\n",
    "# 모형 컴파일(Leaky RELU)\n",
    "model_L_ReLU.compile(loss='categorical_crossentropy', \n",
    "              optimizer='adam', \n",
    "              metrics=['accuracy'])"
   ]
  },
  {
   "cell_type": "code",
   "execution_count": 13,
   "id": "7d4a3914",
   "metadata": {
    "scrolled": true
   },
   "outputs": [
    {
     "name": "stdout",
     "output_type": "stream",
     "text": [
      "Epoch 1/50\n",
      "469/469 [==============================] - 1s 2ms/step - loss: 3.9715 - accuracy: 0.7855\n",
      "Epoch 2/50\n",
      "469/469 [==============================] - 1s 2ms/step - loss: 0.5914 - accuracy: 0.8516\n",
      "Epoch 3/50\n",
      "469/469 [==============================] - 1s 2ms/step - loss: 0.4100 - accuracy: 0.8873\n",
      "Epoch 4/50\n",
      "469/469 [==============================] - 1s 2ms/step - loss: 0.3414 - accuracy: 0.9067\n",
      "Epoch 5/50\n",
      "469/469 [==============================] - 1s 2ms/step - loss: 0.2960 - accuracy: 0.9175\n",
      "Epoch 6/50\n",
      "469/469 [==============================] - 1s 2ms/step - loss: 0.2706 - accuracy: 0.9249\n",
      "Epoch 7/50\n",
      "469/469 [==============================] - 1s 2ms/step - loss: 0.2419 - accuracy: 0.9309\n",
      "Epoch 8/50\n",
      "469/469 [==============================] - 1s 3ms/step - loss: 0.2355 - accuracy: 0.9339\n",
      "Epoch 9/50\n",
      "469/469 [==============================] - 1s 3ms/step - loss: 0.2326 - accuracy: 0.9360\n",
      "Epoch 10/50\n",
      "469/469 [==============================] - 1s 2ms/step - loss: 0.2180 - accuracy: 0.9403\n",
      "Epoch 11/50\n",
      "469/469 [==============================] - 1s 2ms/step - loss: 0.2127 - accuracy: 0.9413\n",
      "Epoch 12/50\n",
      "469/469 [==============================] - 1s 2ms/step - loss: 0.2067 - accuracy: 0.9422\n",
      "Epoch 13/50\n",
      "469/469 [==============================] - 1s 2ms/step - loss: 0.2120 - accuracy: 0.9429\n",
      "Epoch 14/50\n",
      "469/469 [==============================] - 1s 2ms/step - loss: 0.2092 - accuracy: 0.9437\n",
      "Epoch 15/50\n",
      "469/469 [==============================] - 1s 3ms/step - loss: 0.2123 - accuracy: 0.9436\n",
      "Epoch 16/50\n",
      "469/469 [==============================] - 1s 2ms/step - loss: 0.2058 - accuracy: 0.9441\n",
      "Epoch 17/50\n",
      "469/469 [==============================] - 1s 2ms/step - loss: 0.2082 - accuracy: 0.9438\n",
      "Epoch 18/50\n",
      "469/469 [==============================] - 1s 2ms/step - loss: 0.2063 - accuracy: 0.9456\n",
      "Epoch 19/50\n",
      "469/469 [==============================] - 1s 2ms/step - loss: 0.2057 - accuracy: 0.9460\n",
      "Epoch 20/50\n",
      "469/469 [==============================] - 1s 2ms/step - loss: 0.1999 - accuracy: 0.9474\n",
      "Epoch 21/50\n",
      "469/469 [==============================] - 1s 2ms/step - loss: 0.2042 - accuracy: 0.9466\n",
      "Epoch 22/50\n",
      "469/469 [==============================] - 1s 2ms/step - loss: 0.2004 - accuracy: 0.9483\n",
      "Epoch 23/50\n",
      "469/469 [==============================] - 1s 2ms/step - loss: 0.1855 - accuracy: 0.9511\n",
      "Epoch 24/50\n",
      "469/469 [==============================] - 1s 2ms/step - loss: 0.1909 - accuracy: 0.9494\n",
      "Epoch 25/50\n",
      "469/469 [==============================] - 1s 2ms/step - loss: 0.2072 - accuracy: 0.9458\n",
      "Epoch 26/50\n",
      "469/469 [==============================] - 1s 3ms/step - loss: 0.1943 - accuracy: 0.9478\n",
      "Epoch 27/50\n",
      "469/469 [==============================] - 1s 3ms/step - loss: 0.1864 - accuracy: 0.9505\n",
      "Epoch 28/50\n",
      "469/469 [==============================] - 1s 3ms/step - loss: 0.1962 - accuracy: 0.9496\n",
      "Epoch 29/50\n",
      "469/469 [==============================] - 1s 3ms/step - loss: 0.2025 - accuracy: 0.9483\n",
      "Epoch 30/50\n",
      "469/469 [==============================] - 1s 2ms/step - loss: 0.1934 - accuracy: 0.9496\n",
      "Epoch 31/50\n",
      "469/469 [==============================] - 1s 2ms/step - loss: 0.1871 - accuracy: 0.9501\n",
      "Epoch 32/50\n",
      "469/469 [==============================] - 1s 2ms/step - loss: 0.1961 - accuracy: 0.9502\n",
      "Epoch 33/50\n",
      "469/469 [==============================] - 1s 2ms/step - loss: 0.1780 - accuracy: 0.9528\n",
      "Epoch 34/50\n",
      "469/469 [==============================] - 1s 2ms/step - loss: 0.1861 - accuracy: 0.9521\n",
      "Epoch 35/50\n",
      "469/469 [==============================] - 1s 2ms/step - loss: 0.1970 - accuracy: 0.9498\n",
      "Epoch 36/50\n",
      "469/469 [==============================] - 1s 2ms/step - loss: 0.1888 - accuracy: 0.9520\n",
      "Epoch 37/50\n",
      "469/469 [==============================] - 1s 2ms/step - loss: 0.1847 - accuracy: 0.9539\n",
      "Epoch 38/50\n",
      "469/469 [==============================] - 1s 2ms/step - loss: 0.1861 - accuracy: 0.9524\n",
      "Epoch 39/50\n",
      "469/469 [==============================] - 1s 2ms/step - loss: 0.1744 - accuracy: 0.9546\n",
      "Epoch 40/50\n",
      "469/469 [==============================] - 1s 2ms/step - loss: 0.1893 - accuracy: 0.9511\n",
      "Epoch 41/50\n",
      "469/469 [==============================] - 1s 2ms/step - loss: 0.1736 - accuracy: 0.9555\n",
      "Epoch 42/50\n",
      "469/469 [==============================] - 1s 2ms/step - loss: 0.1885 - accuracy: 0.9518\n",
      "Epoch 43/50\n",
      "469/469 [==============================] - 1s 2ms/step - loss: 0.2002 - accuracy: 0.9506\n",
      "Epoch 44/50\n",
      "469/469 [==============================] - 1s 3ms/step - loss: 0.1908 - accuracy: 0.9508\n",
      "Epoch 45/50\n",
      "469/469 [==============================] - 1s 3ms/step - loss: 0.1826 - accuracy: 0.9538\n",
      "Epoch 46/50\n",
      "469/469 [==============================] - 1s 3ms/step - loss: 0.1835 - accuracy: 0.9539\n",
      "Epoch 47/50\n",
      "469/469 [==============================] - 1s 3ms/step - loss: 0.1753 - accuracy: 0.9552\n",
      "Epoch 48/50\n",
      "469/469 [==============================] - 1s 3ms/step - loss: 0.1926 - accuracy: 0.9518\n",
      "Epoch 49/50\n",
      "469/469 [==============================] - 1s 2ms/step - loss: 0.1907 - accuracy: 0.9536\n",
      "Epoch 50/50\n",
      "469/469 [==============================] - 1s 2ms/step - loss: 0.1777 - accuracy: 0.9549\n",
      "57.21102595329285\n"
     ]
    }
   ],
   "source": [
    "# 신경망 학습(Leaky ReLU)\n",
    "start = time.time()\n",
    "L_ReLU_hist = model_L_ReLU.fit(x_train, y_train, epochs=epoch, batch_size=batch_size)\n",
    "end = time.time()\n",
    "L_ReLU_time = end-start\n",
    "print(L_ReLU_time)"
   ]
  },
  {
   "cell_type": "code",
   "execution_count": 17,
   "id": "1851f61c",
   "metadata": {},
   "outputs": [
    {
     "name": "stdout",
     "output_type": "stream",
     "text": [
      "79/79 [==============================] - 0s 1ms/step - loss: 0.2213 - accuracy: 0.9628\n",
      "\n",
      "Test accuracy : 96.280\n",
      "\n",
      "Test loss :0.22132\n"
     ]
    }
   ],
   "source": [
    "L_ReLU_loss, L_ReLU_acc = model_L_ReLU.evaluate(x_test, y_test, batch_size=batch_size)\n",
    "print(\"\\nTest accuracy : %.3f\" % (100.0 * L_ReLU_acc))\n",
    "print(\"\\nTest loss :%.5f\" %(L_ReLU_loss))"
   ]
  },
  {
   "cell_type": "code",
   "execution_count": 14,
   "id": "15c6608a",
   "metadata": {},
   "outputs": [
    {
     "data": {
      "image/png": "[encoded data removed]",
      "text/plain": [
       "<Figure size 720x360 with 2 Axes>"
      ]
     },
     "metadata": {
      "needs_background": "light"
     },
     "output_type": "display_data"
    }
   ],
   "source": [
    "# RELU ACC/LOSS 그래프\n",
    "plt.figure(figsize=(10,5))\n",
    "\n",
    "plt.subplot(1, 2, 1)\n",
    "plt.plot(epochs, L_ReLU_hist.history['accuracy'], label='accuracy', color = 'b')\n",
    "plt.xlabel('epoch')\n",
    "plt.ylabel('accuracy')\n",
    "plt.title('Leaky RELU')\n",
    "plt.legend()\n",
    "\n",
    "plt.subplot(1, 2, 2)\n",
    "plt.plot(epochs, L_ReLU_hist.history['loss'], label='loss', color = 'r')\n",
    "plt.xlabel('epoch')\n",
    "plt.ylabel('loss')\n",
    "plt.title('Leaky RELU')\n",
    "plt.legend()\n",
    "\n",
    "plt.show()"
   ]
  },
  {
   "cell_type": "markdown",
   "id": "566d0436",
   "metadata": {},
   "source": [
    "- `Leaky ReLU`는 `ReLU`가 갖는 뉴런이 죽는 현상을 해결하기 위해 나온 함수임\n",
    "- 본 실험에서는 `ReLU를 사용했을 때도 충분히 97.09%`라는 좋은 성능이 나왔고, 오히려 `Leaky ReLU 를 사용했을 때 96.28%`라는 성능이 나옴\n",
    "- 아래 링크에 의하면, 오히려 ReLU로 인해 소실된 Gradient가 오히려 좋은 역할을 할 경우도 있다고 함\n",
    "\n",
    "> 참고 : https://www.quora.com/Why-isnt-leaky-ReLU-always-preferable-to-ReLU-given-the-zero-gradient-for-x-0?top_ans=35703091"
   ]
  },
  {
   "cell_type": "code",
   "execution_count": null,
   "id": "5b3e086b",
   "metadata": {},
   "outputs": [],
   "source": []
  }
 ],
 "metadata": {
  "kernelspec": {
   "display_name": "Python 3",
   "language": "python",
   "name": "python3"
  },
  "language_info": {
   "codemirror_mode": {
    "name": "ipython",
    "version": 3
   },
   "file_extension": ".py",
   "mimetype": "text/x-python",
   "name": "python",
   "nbconvert_exporter": "python",
   "pygments_lexer": "ipython3",
   "version": "3.6.9"
  }
 },
 "nbformat": 4,
 "nbformat_minor": 5
}
