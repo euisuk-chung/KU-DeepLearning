{
 "cells": [
  {
   "cell_type": "markdown",
   "id": "b1102179",
   "metadata": {},
   "source": [
    "# Comparing Stochastic Gradient Descent & Newton's Method\n",
    "## Question 2\n",
    "임의의 볼록 함수를 정의하고 그것의 최소값을 구하시오.\n",
    "\n",
    "**2-1.** 정의한 볼록 함수 최솟값 문제를 SGD를 적용하여 해결하시오.\n",
    "\n",
    "**2-2.** 정의한 볼록 함수 최솟값 문제를 다시 Newton method를 적용하여 해결하시오.\n",
    "\n",
    "**2-3.** 두 방법을 적용한 것을 비교 분석하시오."
   ]
  },
  {
   "cell_type": "markdown",
   "id": "5dbb596e",
   "metadata": {},
   "source": [
    "## Load Libraries"
   ]
  },
  {
   "cell_type": "code",
   "execution_count": 1,
   "id": "2edabd6c",
   "metadata": {},
   "outputs": [],
   "source": [
    "import tensorflow as tf\n",
    "import numpy as np\n",
    "import time\n",
    "import matplotlib.pyplot as plt\n",
    "import math\n",
    "%matplotlib inline"
   ]
  },
  {
   "cell_type": "markdown",
   "id": "7d3b47a7",
   "metadata": {},
   "source": [
    "## Define Variable and Loss Function\n",
    "\n",
    "$$ y = x^2/4 $$"
   ]
  },
  {
   "cell_type": "code",
   "execution_count": 2,
   "id": "68ac58c2",
   "metadata": {},
   "outputs": [],
   "source": [
    "def initialize_params(init_type=True):\n",
    "    if init_type == True:\n",
    "        x = tf.Variable(2.0)\n",
    "        y = lambda: (x ** 2)/4.0\n",
    "    else:\n",
    "        x = 2\n",
    "        y = (x ** 2)/4.0\n",
    "    \n",
    "    learning_rate = 0.01\n",
    "    epoch = 2000\n",
    "    \n",
    "    return x, y, learning_rate, epoch"
   ]
  },
  {
   "cell_type": "markdown",
   "id": "027271ca",
   "metadata": {},
   "source": [
    "## 2-1. 볼록 함수 최솟값 문제에 SGD 적용하기\n",
    "\n",
    "- `2가지 기법`을 적용하여 풀어보았습니다.\n",
    "    1. using keras.optimizers.SGD\n",
    "    2. using manually defined SGD"
   ]
  },
  {
   "cell_type": "markdown",
   "id": "3176d665",
   "metadata": {},
   "source": [
    "### using keras.optimizers.SGD"
   ]
  },
  {
   "cell_type": "code",
   "execution_count": 3,
   "id": "9c679232",
   "metadata": {
    "scrolled": true
   },
   "outputs": [
    {
     "name": "stdout",
     "output_type": "stream",
     "text": [
      "0 th epoch >> var : 1.990, loss : 0.99002\n",
      "500 th epoch >> var : 0.162, loss : 0.00659\n",
      "1000 th epoch >> var : 0.013, loss : 0.00004\n",
      "1500 th epoch >> var : 0.001, loss : 0.00000\n",
      "=========================\n",
      "TRAIN ENED (TIME 2.0907 s)\n",
      "2000 th epoch >> var : 0.000, loss : 0.00000\n"
     ]
    }
   ],
   "source": [
    "# initialize\n",
    "x, y, learning_rate, epoch = initialize_params()\n",
    "\n",
    "keras_sgd_x = []\n",
    "keras_sgd_y = []\n",
    "\n",
    "# define optimizer\n",
    "opt = tf.keras.optimizers.SGD(learning_rate=learning_rate)\n",
    "\n",
    "start = time.time()\n",
    "# train\n",
    "for i in range(epoch):\n",
    "    step_count = opt.minimize(y, [x]).numpy()\n",
    "    \n",
    "    curr_x = x.numpy()\n",
    "    curr_y = y()\n",
    "    \n",
    "    keras_sgd_x.append(curr_x)\n",
    "    keras_sgd_y.append(curr_y)\n",
    "    \n",
    "    if i % 500 == 0 :\n",
    "        print('%d th epoch >> var : %.3f, loss : %.5f'%(step_count-1, curr_x, curr_y))\n",
    "\n",
    "end = time.time()\n",
    "print(\"=========================\")\n",
    "print(f\"TRAIN ENED (TIME %.4f s)\"%(end-start))\n",
    "\n",
    "# Print Final Result\n",
    "print('%d th epoch >> var : %.3f, loss : %.5f'%(step_count, curr_x, curr_y))"
   ]
  },
  {
   "cell_type": "code",
   "execution_count": 4,
   "id": "d0889a02",
   "metadata": {},
   "outputs": [
    {
     "data": {
      "image/png": "[encoded data removed]",
      "text/plain": [
       "<Figure size 720x360 with 2 Axes>"
      ]
     },
     "metadata": {
      "needs_background": "light"
     },
     "output_type": "display_data"
    }
   ],
   "source": [
    "# X/Y\n",
    "plt.figure(figsize=(10,5))\n",
    "epochs = list(range(1,epoch+1))\n",
    "\n",
    "plt.subplot(1, 2, 1)\n",
    "plt.plot(epochs, keras_sgd_x, label='X', color = 'b')\n",
    "plt.xlabel('epoch')\n",
    "plt.ylabel('X')\n",
    "plt.title('keras_sgd_x')\n",
    "plt.legend()\n",
    "\n",
    "plt.subplot(1, 2, 2)\n",
    "plt.plot(epochs, keras_sgd_y, label='Y', color = 'r')\n",
    "plt.xlabel('epoch')\n",
    "plt.ylabel('Y')\n",
    "plt.title('keras_sgd_y')\n",
    "plt.legend()\n",
    "\n",
    "plt.show()"
   ]
  },
  {
   "cell_type": "markdown",
   "id": "e1347232",
   "metadata": {},
   "source": [
    "### using manually defined SGD code (in-class code)\n",
    "\n",
    "X is updated as below:\n",
    "\n",
    "$$x_{n+1} = x_n -(LearningRate)*{f′(x_n)} $$"
   ]
  },
  {
   "cell_type": "code",
   "execution_count": 5,
   "id": "eb0683f6",
   "metadata": {
    "scrolled": true
   },
   "outputs": [
    {
     "name": "stdout",
     "output_type": "stream",
     "text": [
      "0 th epoch >> var : 1.990, loss : 0.99003\n",
      "500 th epoch >> var : 0.162, loss : 0.00659\n",
      "1000 th epoch >> var : 0.013, loss : 0.00004\n",
      "1500 th epoch >> var : 0.001, loss : 0.00000\n",
      "=========================\n",
      "TRAIN ENED (TIME 0.0015 s)\n",
      "2000 th epoch >> var : 0.000, loss : 0.00000\n"
     ]
    }
   ],
   "source": [
    "# initialize\n",
    "x, y, learning_rate, epoch = initialize_params(False)\n",
    "\n",
    "manual_sgd_x = []\n",
    "manual_sgd_y = []\n",
    "\n",
    "start = time.time()\n",
    "\n",
    "# train\n",
    "for i in range(epoch):    \n",
    "    # derivate\n",
    "    dydx = x/2\n",
    "    \n",
    "    # update x\n",
    "    x = x - learning_rate*dydx\n",
    "    y = x**2/4 \n",
    "    \n",
    "    manual_sgd_x.append(x)\n",
    "    manual_sgd_y.append(y)\n",
    "    \n",
    "    if i % 500 == 0 :\n",
    "        print('%d th epoch >> var : %.3f, loss : %.5f'%(i, x, y))\n",
    "\n",
    "end = time.time()\n",
    "print(\"=========================\")\n",
    "print(f\"TRAIN ENED (TIME %.4f s)\"%(end-start))        \n",
    "\n",
    "# Print Final Result\n",
    "print('%d th epoch >> var : %.3f, loss : %.5f'%(i+1, x, y))"
   ]
  },
  {
   "cell_type": "code",
   "execution_count": 10,
   "id": "1cfd0a88",
   "metadata": {},
   "outputs": [
    {
     "data": {
      "image/png": "[encoded data removed]",
      "text/plain": [
       "<Figure size 720x360 with 2 Axes>"
      ]
     },
     "metadata": {
      "needs_background": "light"
     },
     "output_type": "display_data"
    }
   ],
   "source": [
    "# X/Y\n",
    "plt.figure(figsize=(10,5))\n",
    "epochs = list(range(1,epoch+1))\n",
    "\n",
    "plt.subplot(1, 2, 1)\n",
    "plt.plot(epochs, manual_sgd_x, label='X', color = 'b')\n",
    "plt.xlabel('epoch')\n",
    "plt.ylabel('X')\n",
    "plt.title('Manual_SGD_x')\n",
    "plt.legend()\n",
    "\n",
    "plt.subplot(1, 2, 2)\n",
    "plt.plot(epochs, manual_sgd_y, label='Y', color = 'r')\n",
    "plt.xlabel('epoch')\n",
    "plt.ylabel('Y')\n",
    "plt.title('Manual_SGD_y')\n",
    "plt.legend()\n",
    "\n",
    "plt.show()"
   ]
  },
  {
   "cell_type": "markdown",
   "id": "05eb84ff",
   "metadata": {},
   "source": [
    "## 2-2. 볼록 함수 최솟값 문제에 Newton Method 적용하기"
   ]
  },
  {
   "cell_type": "markdown",
   "id": "aac3eb91",
   "metadata": {},
   "source": [
    "### using manually defined Newton's Method code\n",
    "\n",
    "X is updated as below:\n",
    "\n",
    "$$x_{n+1} = x_n -\\frac{f(x_n)}{f′(x_n)} $$"
   ]
  },
  {
   "cell_type": "code",
   "execution_count": 7,
   "id": "ee55832a",
   "metadata": {},
   "outputs": [
    {
     "name": "stdout",
     "output_type": "stream",
     "text": [
      "0 th epoch >> var : 1.000, loss : 0.25000\n",
      "500 th epoch >> var : 0.000, loss : 0.00000\n",
      "1000 th epoch >> var : 0.000, loss : 0.00000\n",
      "1500 th epoch >> var : 0.000, loss : 0.00000\n",
      "=========================\n",
      "TRAIN ENED (TIME 0.0018 s)\n",
      "2000 th epoch >> var : 0.000, loss : 0.00000\n"
     ]
    }
   ],
   "source": [
    "# initialize\n",
    "x, y, learning_rate, epoch = initialize_params(False)\n",
    "\n",
    "manual_newton_x = []\n",
    "manual_newton_y = []\n",
    "\n",
    "start = time.time()\n",
    "\n",
    "# train\n",
    "for i in range(epoch):    \n",
    "    # y and derivate of y\n",
    "    y = x**2/4 \n",
    "    dydx = x/2\n",
    "    \n",
    "    # update x\n",
    "    x = x - (y/dydx)\n",
    "    y = x**2/4 \n",
    "    \n",
    "    manual_newton_x.append(x)\n",
    "    manual_newton_y.append(y)\n",
    "    \n",
    "    if i % 500 == 0 :\n",
    "        print('%d th epoch >> var : %.3f, loss : %.5f'%(i, x, y))\n",
    "\n",
    "end = time.time()\n",
    "print(\"=========================\")\n",
    "print(f\"TRAIN ENED (TIME %.4f s)\"%(end-start))        \n",
    "        \n",
    "# Print Final Result\n",
    "print('%d th epoch >> var : %.3f, loss : %.5f'%(i+1, x, y))"
   ]
  },
  {
   "cell_type": "code",
   "execution_count": 9,
   "id": "8c9634c4",
   "metadata": {},
   "outputs": [
    {
     "data": {
      "image/png": "[encoded data removed]",
      "text/plain": [
       "<Figure size 720x360 with 2 Axes>"
      ]
     },
     "metadata": {
      "needs_background": "light"
     },
     "output_type": "display_data"
    }
   ],
   "source": [
    "# X/Y\n",
    "plt.figure(figsize=(10,5))\n",
    "epochs = list(range(1,epoch+1))\n",
    "\n",
    "plt.subplot(1, 2, 1)\n",
    "plt.plot(epochs, manual_newton_x, label='X', color = 'b')\n",
    "plt.xlabel('epoch')\n",
    "plt.ylabel('X')\n",
    "plt.title('Manual_Newton_x')\n",
    "plt.legend()\n",
    "\n",
    "plt.subplot(1, 2, 2)\n",
    "plt.plot(epochs, manual_newton_y, label='Y', color = 'r')\n",
    "plt.xlabel('epoch')\n",
    "plt.ylabel('Y')\n",
    "plt.title('Manual_Newton_y')\n",
    "plt.legend()\n",
    "\n",
    "plt.show()"
   ]
  },
  {
   "cell_type": "markdown",
   "id": "b21fd1b8",
   "metadata": {},
   "source": [
    "## 2-3. 두 방법을 적용한 것을 비교 분석하기\n",
    "- 몇 epoch에 수렴하는 가를 비교를 위해 조건을 추가하여 비교 수행"
   ]
  },
  {
   "cell_type": "markdown",
   "id": "8a004149",
   "metadata": {},
   "source": [
    "### SGD Manual"
   ]
  },
  {
   "cell_type": "code",
   "execution_count": 13,
   "id": "6ddbce84",
   "metadata": {},
   "outputs": [
    {
     "name": "stdout",
     "output_type": "stream",
     "text": [
      "0 th epoch >> var : 1.990, loss : 0.99003\n",
      "500 th epoch >> var : 0.162, loss : 0.00659\n",
      "1000 th epoch >> var : 0.013, loss : 0.00004\n",
      "1500 th epoch >> var : 0.001, loss : 0.00000\n",
      "=========================\n",
      "TRAIN ENED (TIME 0.0058 s)\n",
      "2000 th epoch >> var : 0.000, loss : 0.00000\n"
     ]
    }
   ],
   "source": [
    "# initialize\n",
    "x, y, learning_rate, epoch = initialize_params(False)\n",
    "\n",
    "# 조건\n",
    "epsilon =  1e-10\n",
    "\n",
    "manual_sgd_x = []\n",
    "manual_sgd_y = []\n",
    "\n",
    "start = time.time()\n",
    "\n",
    "# train\n",
    "for i in range(epoch):    \n",
    "    # derivate\n",
    "    dydx = x/2\n",
    "    \n",
    "    # update x\n",
    "    x = x - learning_rate*dydx\n",
    "    y = x**2/4 \n",
    "    delta = abs(0-y)\n",
    "    \n",
    "    manual_sgd_x.append(x)\n",
    "    manual_sgd_y.append(y)\n",
    "    \n",
    "    if delta < epsilon:\n",
    "        print(f'TRAING STOPPED AT {i+1}')\n",
    "        break\n",
    "    \n",
    "    if i % 500 == 0 :\n",
    "        print('%d th epoch >> var : %.3f, loss : %.5f'%(i, x, y))\n",
    "\n",
    "end = time.time()\n",
    "print(\"=========================\")\n",
    "print(f\"TRAIN ENED (TIME %.4f s)\"%(end-start))        \n",
    "\n",
    "# Print Final Result\n",
    "print('%d th epoch >> var : %.3f, loss : %.5f'%(i+1, x, y))"
   ]
  },
  {
   "cell_type": "code",
   "execution_count": 14,
   "id": "097b685c",
   "metadata": {},
   "outputs": [
    {
     "name": "stdout",
     "output_type": "stream",
     "text": [
      "0 th epoch >> var : 1.000, loss : 0.25000\n",
      "TRAING STOPPED AT 17\n",
      "=========================\n",
      "TRAIN ENED (TIME 0.0010 s)\n",
      "17 th epoch >> var : 0.000, loss : 0.00000\n"
     ]
    }
   ],
   "source": [
    "# initialize\n",
    "x, y, learning_rate, epoch = initialize_params(False)\n",
    "\n",
    "# 조건\n",
    "epsilon =  1e-10\n",
    "\n",
    "manual_newton_x = []\n",
    "manual_newton_y = []\n",
    "\n",
    "start = time.time()\n",
    "\n",
    "# train\n",
    "for i in range(epoch):    \n",
    "    # y and derivate of y\n",
    "    y = x**2/4 \n",
    "    dydx = x/2\n",
    "    \n",
    "    # update x\n",
    "    x = x - (y/dydx)\n",
    "    y = x**2/4 \n",
    "    delta = abs(0-y)\n",
    "    \n",
    "    manual_newton_x.append(x)\n",
    "    manual_newton_y.append(y)\n",
    "    \n",
    "    if delta < epsilon:\n",
    "        print(f'TRAING STOPPED AT {i+1}')\n",
    "        break\n",
    "    \n",
    "    if i % 500 == 0 :\n",
    "        print('%d th epoch >> var : %.3f, loss : %.5f'%(i, x, y))\n",
    "\n",
    "end = time.time()\n",
    "print(\"=========================\")\n",
    "print(f\"TRAIN ENED (TIME %.4f s)\"%(end-start))        \n",
    "        \n",
    "# Print Final Result\n",
    "print('%d th epoch >> var : %.3f, loss : %.5f'%(i+1, x, y))"
   ]
  }
 ],
 "metadata": {
  "kernelspec": {
   "display_name": "Python 3",
   "language": "python",
   "name": "python3"
  },
  "language_info": {
   "codemirror_mode": {
    "name": "ipython",
    "version": 3
   },
   "file_extension": ".py",
   "mimetype": "text/x-python",
   "name": "python",
   "nbconvert_exporter": "python",
   "pygments_lexer": "ipython3",
   "version": "3.6.9"
  }
 },
 "nbformat": 4,
 "nbformat_minor": 5
}
