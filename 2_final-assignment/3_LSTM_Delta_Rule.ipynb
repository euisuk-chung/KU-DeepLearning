{
 "cells": [
  {
   "cell_type": "markdown",
   "id": "cfeff994",
   "metadata": {},
   "source": [
    "# Question3\n",
    "\n",
    "Build LSTM Model using Delta-rule"
   ]
  },
  {
   "cell_type": "code",
   "execution_count": 25,
   "id": "2d5192ed",
   "metadata": {},
   "outputs": [],
   "source": [
    "import numpy as np\n",
    "import pandas as pd \n",
    "from tqdm.auto import trange\n",
    "import matplotlib.pyplot as plt\n",
    "import tensorflow as tf\n",
    "%matplotlib inline\n",
    "\n",
    "import warnings\n",
    "warnings.filterwarnings(action='ignore')"
   ]
  },
  {
   "cell_type": "code",
   "execution_count": 26,
   "id": "29615745",
   "metadata": {},
   "outputs": [
    {
     "name": "stdout",
     "output_type": "stream",
     "text": [
      "data has 5 characters, 5 unique\n"
     ]
    }
   ],
   "source": [
    "data='KERAS'\n",
    "chars = list(set(data))\n",
    "\n",
    "data_size, X_size = len(data), len(chars)\n",
    "print(\"data has %d characters, %d unique\" % (data_size, X_size))"
   ]
  },
  {
   "cell_type": "code",
   "execution_count": 27,
   "id": "8f69dc2a",
   "metadata": {},
   "outputs": [],
   "source": [
    "char_to_idx = {ch:i for i,ch in enumerate(chars)}\n",
    "idx_to_char = {i:ch for i,ch in enumerate(chars)}"
   ]
  },
  {
   "cell_type": "code",
   "execution_count": 28,
   "id": "15db0eac",
   "metadata": {},
   "outputs": [
    {
     "data": {
      "text/plain": [
       "{'A': 0, 'R': 1, 'K': 2, 'S': 3, 'E': 4}"
      ]
     },
     "execution_count": 28,
     "metadata": {},
     "output_type": "execute_result"
    }
   ],
   "source": [
    "char_to_idx"
   ]
  },
  {
   "cell_type": "code",
   "execution_count": 29,
   "id": "32e0deb7",
   "metadata": {},
   "outputs": [
    {
     "data": {
      "text/plain": [
       "{0: 'A', 1: 'R', 2: 'K', 3: 'S', 4: 'E'}"
      ]
     },
     "execution_count": 29,
     "metadata": {},
     "output_type": "execute_result"
    }
   ],
   "source": [
    "idx_to_char"
   ]
  },
  {
   "cell_type": "markdown",
   "id": "d091ffb4",
   "metadata": {
    "papermill": {
     "duration": 0.022252,
     "end_time": "2021-03-31T01:15:39.735169",
     "exception": false,
     "start_time": "2021-03-31T01:15:39.712917",
     "status": "completed"
    },
    "tags": []
   },
   "source": [
    "### Parameters"
   ]
  },
  {
   "cell_type": "code",
   "execution_count": 30,
   "id": "188ec9fa",
   "metadata": {
    "papermill": {
     "duration": 0.033741,
     "end_time": "2021-03-31T01:15:39.791775",
     "exception": false,
     "start_time": "2021-03-31T01:15:39.758034",
     "status": "completed"
    },
    "tags": []
   },
   "outputs": [
    {
     "name": "stdout",
     "output_type": "stream",
     "text": [
      "5\n",
      "5\n"
     ]
    }
   ],
   "source": [
    "# since we are using one word. data_size = char_size\n",
    "data_size, char_size = len(data), len(chars)\n",
    "\n",
    "print(data_size)\n",
    "print(char_size)"
   ]
  },
  {
   "cell_type": "code",
   "execution_count": 31,
   "id": "33aaea84",
   "metadata": {},
   "outputs": [],
   "source": [
    "hidden_size = 10\n",
    "weight_sd = 0.1\n",
    "z_size = hidden_size + char_size\n",
    "t_steps = 25"
   ]
  },
  {
   "cell_type": "markdown",
   "id": "79a50f7f",
   "metadata": {},
   "source": [
    "### Activation Function"
   ]
  },
  {
   "cell_type": "code",
   "execution_count": 32,
   "id": "35d6c072",
   "metadata": {},
   "outputs": [],
   "source": [
    "def sigmoid(x):\n",
    "    return 1 / (1 + np.exp(-x))\n",
    "\n",
    "def dsigmoid(y):\n",
    "    return y * (1 - y)\n",
    "\n",
    "def tanh(x):\n",
    "    return np.tanh(x)\n",
    "\n",
    "def dtanh(y):\n",
    "    return 1 - y * y"
   ]
  },
  {
   "cell_type": "markdown",
   "id": "8cf690d3",
   "metadata": {},
   "source": [
    "## Model"
   ]
  },
  {
   "cell_type": "markdown",
   "id": "e55a45e8",
   "metadata": {
    "papermill": {
     "duration": 0.022541,
     "end_time": "2021-03-31T01:15:39.943116",
     "exception": false,
     "start_time": "2021-03-31T01:15:39.920575",
     "status": "completed"
    },
    "tags": []
   },
   "source": [
    "### Architecture"
   ]
  },
  {
   "attachments": {
    "LSTM.png": {
     "image/png": "[encoded data removed]"
    }
   },
   "cell_type": "markdown",
   "id": "9c3c4482",
   "metadata": {
    "papermill": {
     "duration": 0.023506,
     "end_time": "2021-03-31T01:15:39.990636",
     "exception": false,
     "start_time": "2021-03-31T01:15:39.967130",
     "status": "completed"
    },
    "tags": []
   },
   "source": [
    "![LSTM.png](attachment:LSTM.png)"
   ]
  },
  {
   "cell_type": "code",
   "execution_count": 33,
   "id": "a258b7c9",
   "metadata": {},
   "outputs": [],
   "source": [
    "def forward(x, u, q):\n",
    "    z = np.row_stack((q, x))\n",
    "\n",
    "    a = sigmoid(np.dot(wa, z) + ba)\n",
    "    b = sigmoid(np.dot(wb, z) + bb)\n",
    "    c = tanh(np.dot(wc, z) + bc)\n",
    "    d = sigmoid(np.dot(wd, z) + bd)\n",
    "\n",
    "    e = a * u + b * c\n",
    "    h = d * tanh(e)\n",
    "\n",
    "    v = np.dot(wv, h) + bv\n",
    "    y = np.exp(v) / np.sum(np.exp(v))\n",
    "\n",
    "    return z, a, b, c, d, e, h, v, y"
   ]
  },
  {
   "cell_type": "code",
   "execution_count": 40,
   "id": "5ee53b58",
   "metadata": {},
   "outputs": [],
   "source": [
    "# optimizing using delta rule\n",
    "def optimize(delta, theta, lr_rate =0.05):\n",
    "    \n",
    "    # delta\n",
    "    dwa, dwb, dwc, dwd, dwv, dba, dbb, dbc, dbd, dbv = delta\n",
    "    \n",
    "    # theta\n",
    "    wa, wb, wc, wd, wv, ba, bb, bc, bd, bv = theta\n",
    "    \n",
    "    # update weights\n",
    "    wa -= dwa * lr_rate\n",
    "    wb -= dwb * lr_rate\n",
    "    wc -= dwc * lr_rate\n",
    "    wd -= dwd * lr_rate\n",
    "    wv -= dwv * lr_rate\n",
    "    \n",
    "    # bias\n",
    "    ba -= dba * lr_rate\n",
    "    bb -= dbb * lr_rate\n",
    "    bc -= dbc * lr_rate\n",
    "    bd -= dbd * lr_rate\n",
    "    bv -= dbv * lr_rate\n",
    "    \n",
    "    return wa, wb, wc, wd, wv, ba, bb, bc, bd, bv"
   ]
  },
  {
   "cell_type": "markdown",
   "id": "a678fa72",
   "metadata": {
    "papermill": {
     "duration": 0.026741,
     "end_time": "2021-03-31T01:15:40.213193",
     "exception": false,
     "start_time": "2021-03-31T01:15:40.186452",
     "status": "completed"
    },
    "tags": []
   },
   "source": [
    "### Initilizae Variable"
   ]
  },
  {
   "cell_type": "code",
   "execution_count": 41,
   "id": "6ddf4820",
   "metadata": {
    "papermill": {
     "duration": 0.0333,
     "end_time": "2021-03-31T01:15:40.271085",
     "exception": false,
     "start_time": "2021-03-31T01:15:40.237785",
     "status": "completed"
    },
    "scrolled": true,
    "tags": []
   },
   "outputs": [],
   "source": [
    "losses = {}\n",
    "z, a, b, c, d, e, h, v, y = {}, {}, {}, {}, {}, {}, {}, {}, {}\n",
    "q, x, u = {}, {}, {}"
   ]
  },
  {
   "cell_type": "code",
   "execution_count": 42,
   "id": "1e710b6d",
   "metadata": {
    "papermill": {
     "duration": 0.036768,
     "end_time": "2021-03-31T01:15:40.332419",
     "exception": false,
     "start_time": "2021-03-31T01:15:40.295651",
     "status": "completed"
    },
    "scrolled": true,
    "tags": []
   },
   "outputs": [],
   "source": [
    "wa, wb, wc, wd = [np.random.randn(hidden_size, z_size) * weight_sd + 0.5 for x in range(4)]\n",
    "ba, bb, bc, bd = [np.zeros((hidden_size, 1)) for x in range(4)]\n",
    "\n",
    "# output\n",
    "wv = np.random.randn(char_size, hidden_size) * weight_sd\n",
    "bv = np.zeros((char_size, 1))"
   ]
  },
  {
   "cell_type": "code",
   "execution_count": 43,
   "id": "eb7273bc",
   "metadata": {
    "papermill": {
     "duration": 0.035446,
     "end_time": "2021-03-31T01:15:40.393224",
     "exception": false,
     "start_time": "2021-03-31T01:15:40.357778",
     "status": "completed"
    },
    "scrolled": true,
    "tags": []
   },
   "outputs": [],
   "source": [
    "q[-1] = np.zeros((hidden_size, 1))\n",
    "u[-1] = np.zeros((hidden_size, 1))\n",
    "\n",
    "t_steps = 4\n",
    "\n",
    "inputs = ([char_to_idx[ch] for ch in idx2char[0: t_steps]])\n",
    "targets = ([char_to_idx[ch] for ch in idx2char[1: t_steps + 1]])"
   ]
  },
  {
   "cell_type": "markdown",
   "id": "5d0c098c",
   "metadata": {
    "papermill": {
     "duration": 0.023749,
     "end_time": "2021-03-31T01:15:40.440851",
     "exception": false,
     "start_time": "2021-03-31T01:15:40.417102",
     "status": "completed"
    },
    "tags": []
   },
   "source": [
    "### Training"
   ]
  },
  {
   "cell_type": "code",
   "execution_count": 44,
   "id": "0bf81a1a",
   "metadata": {
    "papermill": {
     "duration": 5.404458,
     "end_time": "2021-03-31T01:15:45.869818",
     "exception": false,
     "start_time": "2021-03-31T01:15:40.465360",
     "status": "completed"
    },
    "scrolled": true,
    "tags": []
   },
   "outputs": [],
   "source": [
    "for epoch in range(2000):\n",
    "    \n",
    "    loss = 0\n",
    "    \n",
    "    # Forward propagation\n",
    "    for t in range(len(inputs)):\n",
    "        x[t] = np.zeros((char_size, 1))\n",
    "        x[t][inputs[t]] = 1\n",
    "\n",
    "        z[t], a[t], b[t], c[t], d[t], e[t], h[t], v[t], y[t] = forward(x[t], u[t - 1], q[t - 1])\n",
    "\n",
    "        u[t], q[t] = e[t], h[t]\n",
    "\n",
    "        loss += -np.log(y[t][targets[t], 0])\n",
    "\n",
    "\n",
    "    dh_next = np.zeros_like(q[0])\n",
    "    de_next = np.zeros_like(u[0])\n",
    "    dwa, dwb, dwc, dwd, dwv, dba, dbb, dbc, dbd, dbv = 0, 0, 0, 0, 0, 0, 0, 0, 0, 0\n",
    "\n",
    "    # Backward propagation\n",
    "    for t in reversed(range(len(inputs))):\n",
    "        target = targets[t]\n",
    "\n",
    "        dv = np.copy(y[t])\n",
    "        dv[target] -= 1\n",
    "\n",
    "        dwv += np.dot(dv, h[t].T)\n",
    "        dbv += dv\n",
    "\n",
    "        dh = np.dot(wv.T, dv)\n",
    "        dh += dh_next\n",
    "\n",
    "        dd = dh * tanh(e[t])\n",
    "        dd = dsigmoid(d[t]) * dd\n",
    "\n",
    "        dwd += np.dot(dd, z[t].T)\n",
    "        dbd += dd\n",
    "\n",
    "        de = np.copy(de_next)\n",
    "        de += dh * d[t] * dtanh(tanh(e[t]))\n",
    "\n",
    "        dc = de * b[t]\n",
    "        dc = dtanh(c[t]) * dc\n",
    "\n",
    "        dwc += np.dot(dc, z[t].T)\n",
    "        dbc += dc\n",
    "\n",
    "        db = de * dc\n",
    "        db = dsigmoid(b[t]) * db\n",
    "\n",
    "        dwb += np.dot(db, z[t].T)\n",
    "        dbb += db\n",
    "\n",
    "        da = de * u[t - 1]\n",
    "        da = dsigmoid(a[t]) * da\n",
    "\n",
    "        dwa += np.dot(da, z[t].T)\n",
    "        dba += da\n",
    "\n",
    "        dz = (np.dot(wa.T, da) \n",
    "              + np.dot(wb.T, db) \n",
    "              + np.dot(wc.T, dc) \n",
    "              + np.dot(dd.T, dd))\n",
    "\n",
    "        dh_next = dz[:hidden_size, :]\n",
    "        de_next = a[t] * de\n",
    "\n",
    "    \n",
    "    delta = dwa, dwb, dwc, dwd, dwv, dba, dbb, dbc, dbd, dbv\n",
    "    theta = wa, wb, wc, wd, wv, ba, bb, bc, bd, bv\n",
    "\n",
    "    # optimize with SGD the training data\n",
    "    wa, wb, wc, wd, wv, ba, bb, bc, bd, bv = optimize(delta, theta)\n",
    "        \n",
    "    losses[epoch] = loss"
   ]
  },
  {
   "cell_type": "markdown",
   "id": "8c5bf4c5",
   "metadata": {
    "papermill": {
     "duration": 0.025149,
     "end_time": "2021-03-31T01:15:45.921020",
     "exception": false,
     "start_time": "2021-03-31T01:15:45.895871",
     "status": "completed"
    },
    "tags": []
   },
   "source": [
    "### Analyze"
   ]
  },
  {
   "cell_type": "code",
   "execution_count": 45,
   "id": "a8debc91",
   "metadata": {
    "papermill": {
     "duration": 0.215263,
     "end_time": "2021-03-31T01:15:46.163628",
     "exception": false,
     "start_time": "2021-03-31T01:15:45.948365",
     "status": "completed"
    },
    "scrolled": true,
    "tags": []
   },
   "outputs": [
    {
     "data": {
      "text/plain": [
       "[<matplotlib.lines.Line2D at 0x7fd741b20fd0>]"
      ]
     },
     "execution_count": 45,
     "metadata": {},
     "output_type": "execute_result"
    },
    {
     "data": {
      "image/png": "[encoded data removed]",
      "text/plain": [
       "<Figure size 432x288 with 1 Axes>"
      ]
     },
     "metadata": {
      "needs_background": "light"
     },
     "output_type": "display_data"
    }
   ],
   "source": [
    "plt.plot(list(losses.keys()), [losses[x] for x in list(losses.keys())])"
   ]
  },
  {
   "cell_type": "markdown",
   "id": "89b79214",
   "metadata": {},
   "source": [
    "### Inference"
   ]
  },
  {
   "cell_type": "code",
   "execution_count": 46,
   "id": "959ec311",
   "metadata": {},
   "outputs": [
    {
     "data": {
      "text/plain": [
       "[2, 4, 1, 0]"
      ]
     },
     "execution_count": 46,
     "metadata": {},
     "output_type": "execute_result"
    }
   ],
   "source": [
    "inputs"
   ]
  },
  {
   "cell_type": "code",
   "execution_count": 59,
   "id": "6cf68b59",
   "metadata": {},
   "outputs": [
    {
     "name": "stdout",
     "output_type": "stream",
     "text": [
      "INPUT: K\n",
      ">>> OUTPUT(Y): [0.0007568, 0.0035026, 0.0002344, 2.3e-06, 0.9955038]\n",
      ">>> OUTPUT(Alphabet): E\n",
      "==================================================\n",
      "INPUT: E\n",
      ">>> OUTPUT(Y): [0.0053674, 0.9899267, 0.0004291, 5.02e-05, 0.0042265]\n",
      ">>> OUTPUT(Alphabet): R\n",
      "==================================================\n",
      "INPUT: R\n",
      ">>> OUTPUT(Y): [0.9885596, 0.0048662, 0.0002238, 0.0058953, 0.0004551]\n",
      ">>> OUTPUT(Alphabet): A\n",
      "==================================================\n",
      "INPUT: A\n",
      ">>> OUTPUT(Y): [0.0056152, 9e-07, 3e-07, 0.9943836, 0.0]\n",
      ">>> OUTPUT(Alphabet): S\n",
      "==================================================\n"
     ]
    }
   ],
   "source": [
    "for t in range(len(inputs)):    \n",
    "    x[t] = np.zeros((char_size, 1))\n",
    "    x[t][inputs[t]] = 1\n",
    "\n",
    "    print('INPUT:', idx_to_char[np.argmax(x[t])])\n",
    "    \n",
    "    z[t], a[t], b[t], c[t], d[t], e[t], h[t], v[t], y[t] = forward(x[t], u[t - 1], q[t - 1])\n",
    "    \n",
    "    # u: cell_state\n",
    "    # q: hidden_state\n",
    "    u[t], q[t] = e[t], h[t]\n",
    "    \n",
    "    y = [round(float(_),7) for _ in y[t]]\n",
    "    \n",
    "    print(f'>>> OUTPUT(Y): {y}')\n",
    "    print('>>> OUTPUT(Alphabet):', idx_to_char[np.argmax(y)])\n",
    "    print(\"==================================================\")"
   ]
  },
  {
   "cell_type": "code",
   "execution_count": null,
   "id": "3bd9f129",
   "metadata": {},
   "outputs": [],
   "source": []
  }
 ],
 "metadata": {
  "kernelspec": {
   "display_name": "Python 3",
   "language": "python",
   "name": "python3"
  },
  "language_info": {
   "codemirror_mode": {
    "name": "ipython",
    "version": 3
   },
   "file_extension": ".py",
   "mimetype": "text/x-python",
   "name": "python",
   "nbconvert_exporter": "python",
   "pygments_lexer": "ipython3",
   "version": "3.6.9"
  }
 },
 "nbformat": 4,
 "nbformat_minor": 5
}
