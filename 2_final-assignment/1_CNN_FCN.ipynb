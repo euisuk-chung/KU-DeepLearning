{
  "cells": [
    {
      "cell_type": "markdown",
      "id": "3dc2c80e",
      "metadata": {
        "id": "3dc2c80e"
      },
      "source": [
        "# Question 1\n",
        "\n",
        "Train CNN model to do multiclass classification using MNIST"
      ]
    },
    {
      "cell_type": "markdown",
      "id": "ce81ef81",
      "metadata": {
        "id": "ce81ef81"
      },
      "source": [
        "## Libraries"
      ]
    },
    {
      "cell_type": "code",
      "source": [
        "!pip install einops"
      ],
      "metadata": {
        "colab": {
          "base_uri": "https://localhost:8080/"
        },
        "id": "_8NWqilsNZEF",
        "outputId": "16f2931f-1a77-45e2-e91f-e6ad8e967933"
      },
      "id": "_8NWqilsNZEF",
      "execution_count": 36,
      "outputs": [
        {
          "output_type": "stream",
          "name": "stdout",
          "text": [
            "Requirement already satisfied: einops in /usr/local/lib/python3.7/dist-packages (0.3.2)\n"
          ]
        }
      ]
    },
    {
      "cell_type": "code",
      "execution_count": 118,
      "id": "ee585b80",
      "metadata": {
        "id": "ee585b80"
      },
      "outputs": [],
      "source": [
        "import os \n",
        "import sys\n",
        "import numpy as np\n",
        "import pandas as pd\n",
        "from einops import rearrange\n",
        "import matplotlib.pyplot as plt\n",
        "import matplotlib.patches as patches\n",
        "%matplotlib inline\n",
        "\n",
        "# tensorflow\n",
        "import tensorflow as tf\n",
        "from tensorflow import keras\n",
        "from tensorflow.keras import layers\n",
        "from tensorflow.keras.datasets import mnist"
      ]
    },
    {
      "cell_type": "code",
      "execution_count": 119,
      "id": "ab91ef60",
      "metadata": {
        "id": "ab91ef60"
      },
      "outputs": [],
      "source": [
        "# load dataset\n",
        "(x_train, y_train),(x_test, y_test) = mnist.load_data()"
      ]
    },
    {
      "cell_type": "code",
      "execution_count": 120,
      "id": "26b381ef",
      "metadata": {
        "colab": {
          "base_uri": "https://localhost:8080/"
        },
        "id": "26b381ef",
        "outputId": "9d927d75-f0b3-4fdb-f23a-3c1fb12bfc3b"
      },
      "outputs": [
        {
          "output_type": "stream",
          "name": "stdout",
          "text": [
            "Train labels: \n",
            " {0: 5923, 1: 6742, 2: 5958, 3: 6131, 4: 5842, 5: 5421, 6: 5918, 7: 6265, 8: 5851, 9: 5949}\n"
          ]
        }
      ],
      "source": [
        "# count the number of unique train labels\n",
        "unique, counts = np.unique(y_train, return_counts=True)\n",
        "print(\"Train labels: \\n\", dict(zip(unique, counts)))"
      ]
    },
    {
      "cell_type": "code",
      "execution_count": 121,
      "id": "d44a9670",
      "metadata": {
        "colab": {
          "base_uri": "https://localhost:8080/"
        },
        "id": "d44a9670",
        "outputId": "7081d50d-98c4-4583-ab8f-9de459116d70"
      },
      "outputs": [
        {
          "output_type": "stream",
          "name": "stdout",
          "text": [
            "Test labels: \n",
            " {0: 980, 1: 1135, 2: 1032, 3: 1010, 4: 982, 5: 892, 6: 958, 7: 1028, 8: 974, 9: 1009}\n"
          ]
        }
      ],
      "source": [
        "# count the number of unique test labels\n",
        "unique, counts = np.unique(y_test, return_counts=True)\n",
        "print(\"Test labels: \\n\", dict(zip(unique, counts)))"
      ]
    },
    {
      "cell_type": "markdown",
      "id": "72b520d1",
      "metadata": {
        "id": "72b520d1"
      },
      "source": [
        "## Data Visualization"
      ]
    },
    {
      "cell_type": "code",
      "execution_count": 122,
      "id": "96628173",
      "metadata": {
        "colab": {
          "base_uri": "https://localhost:8080/"
        },
        "id": "96628173",
        "outputId": "c2107563-b809-4e43-d687-b68d260e2501"
      },
      "outputs": [
        {
          "output_type": "stream",
          "name": "stdout",
          "text": [
            "(60000, 28, 28)\n"
          ]
        }
      ],
      "source": [
        "print(x_train.shape)"
      ]
    },
    {
      "cell_type": "code",
      "execution_count": 123,
      "id": "f36680ce",
      "metadata": {
        "colab": {
          "base_uri": "https://localhost:8080/",
          "height": 303
        },
        "id": "f36680ce",
        "outputId": "a0e9451f-8823-4ff5-f8d0-5a4df81f7710"
      },
      "outputs": [
        {
          "output_type": "display_data",
          "data": {
            "image/png": "[encoded data removed]",
            "text/plain": [
              "<Figure size 360x360 with 25 Axes>"
            ]
          },
          "metadata": {
            "needs_background": "light"
          }
        }
      ],
      "source": [
        "# Plot 25 mnist digits samples from train dataset\n",
        "index = np.random.randint(0, x_train.shape[0], size=25)\n",
        "images = x_train[index]\n",
        "labels = y_train[index]\n",
        "\n",
        "# plot the 25 mnist digits\n",
        "plt.figure(figsize=(5,5))\n",
        "\n",
        "for i in range(len(index)):\n",
        "    plt.subplot(5, 5, i + 1)  # nrows, ncols, index\n",
        "    image = images[i]\n",
        "    plt.imshow(image, cmap='gray')\n",
        "    plt.axis('off')\n",
        "    \n",
        "plt.show()\n",
        "plt.close('all')"
      ]
    },
    {
      "cell_type": "markdown",
      "id": "bc1e9890",
      "metadata": {
        "id": "bc1e9890"
      },
      "source": [
        "### Preprocess"
      ]
    },
    {
      "cell_type": "code",
      "execution_count": 124,
      "id": "87342906",
      "metadata": {
        "colab": {
          "base_uri": "https://localhost:8080/"
        },
        "id": "87342906",
        "outputId": "d2e0d464-2893-46db-b3f7-9b66a6808a83"
      },
      "outputs": [
        {
          "output_type": "stream",
          "name": "stdout",
          "text": [
            "======BEFORE======\n",
            "x_train shape: \n",
            "(60000, 28, 28)\n",
            "train samples 60000\n",
            "test samples 10000\n",
            "======AFTER======\n",
            "x_train shape: \n",
            "(60000, 28, 28, 1)\n",
            "train samples 60000\n",
            "test samples 10000\n"
          ]
        }
      ],
      "source": [
        "# Scale images to the [0, 1] range\n",
        "x_train_scaled = x_train.astype(\"float32\") / 255\n",
        "x_test_scaled = x_test.astype(\"float32\") / 255\n",
        "\n",
        "print(\"======BEFORE======\")\n",
        "print(\"x_train shape: \\n\", x_train_scaled.shape, sep = '')\n",
        "print(\"train samples\", x_train_scaled.shape[0])\n",
        "print(\"test samples\", x_test_scaled.shape[0])\n",
        "\n",
        "# Make sure images have shape (28, 28, 1)\n",
        "x_train_scaled = np.expand_dims(x_train_scaled, -1)\n",
        "x_test_scaled = np.expand_dims(x_test_scaled, -1)\n",
        "\n",
        "print(\"======AFTER======\")\n",
        "print(\"x_train shape: \\n\", x_train_scaled.shape, sep = '')\n",
        "print(\"train samples\", x_train_scaled.shape[0])\n",
        "print(\"test samples\", x_test_scaled.shape[0])"
      ]
    },
    {
      "cell_type": "code",
      "execution_count": 125,
      "id": "a70f5625",
      "metadata": {
        "id": "a70f5625"
      },
      "outputs": [],
      "source": [
        "# MNIST Class & Input Shape\n",
        "classes = list(range(10))\n",
        "num_classes = 10\n",
        "image_size = x_train.shape[1]\n",
        "input_size = image_size * image_size\n",
        "\n",
        "# convert class vectors to binary class matrices\n",
        "y_train = keras.utils.to_categorical(y_train, num_classes)\n",
        "y_test = keras.utils.to_categorical(y_test, num_classes)"
      ]
    },
    {
      "cell_type": "markdown",
      "id": "1ff48be6",
      "metadata": {
        "id": "1ff48be6"
      },
      "source": [
        "## Make Train Image for this task\n",
        "- Make Train image as requested"
      ]
    },
    {
      "cell_type": "code",
      "execution_count": 126,
      "id": "c38ceaef",
      "metadata": {
        "id": "c38ceaef"
      },
      "outputs": [],
      "source": [
        "def concat_h(im1, im2):\n",
        "    concat = np.concatenate((im1, im2), axis=1)\n",
        "    return concat\n",
        "\n",
        "def concat_v(im1, im2):\n",
        "    concat = np.concatenate((im1, im2), axis=0)\n",
        "    return concat"
      ]
    },
    {
      "cell_type": "code",
      "execution_count": 127,
      "id": "4ce77371",
      "metadata": {
        "id": "4ce77371"
      },
      "outputs": [],
      "source": [
        "def concat_imgs(original):\n",
        "    # concatenate images\n",
        "    concat = []\n",
        "\n",
        "    for i in range(original.shape[0]):\n",
        "        # get batch\n",
        "        imgs = original[i]\n",
        "\n",
        "        for j in range(len(imgs)):\n",
        "            if j < 4: #first row\n",
        "                if j == 0:\n",
        "                    img1 = imgs[j]\n",
        "                else:\n",
        "                    img1=concat_h(img1, imgs[j])\n",
        "            elif j < 8: #second row\n",
        "                if j == 4:\n",
        "                    img2 = imgs[j]\n",
        "                else:\n",
        "                    img2=concat_h(img2, imgs[j])\n",
        "            elif j < 12: #third row\n",
        "                if j == 8:\n",
        "                    img3 = imgs[j]\n",
        "                else:\n",
        "                    img3=concat_h(img3, imgs[j])\n",
        "            else: #fourth row\n",
        "                if j == 12:\n",
        "                    img4 = imgs[j]\n",
        "                else:\n",
        "                    img4=concat_h(img4, imgs[j])\n",
        "\n",
        "        # concat all\n",
        "        tmp_original = img1\n",
        "        tmp_original = concat_v(tmp_original, img2)\n",
        "        tmp_original = concat_v(tmp_original, img3)\n",
        "        tmp_original = concat_v(tmp_original, img4)\n",
        "\n",
        "        concat.append(tmp_original)\n",
        "\n",
        "    concat = np.array(concat)\n",
        "    \n",
        "    return concat"
      ]
    },
    {
      "cell_type": "code",
      "execution_count": 128,
      "id": "5d9d5e1a",
      "metadata": {
        "colab": {
          "base_uri": "https://localhost:8080/"
        },
        "id": "5d9d5e1a",
        "outputId": "4dbe658f-2101-4187-cf88-13c15449f888"
      },
      "outputs": [
        {
          "output_type": "execute_result",
          "data": {
            "text/plain": [
              "(10000, 28, 28)"
            ]
          },
          "metadata": {},
          "execution_count": 128
        }
      ],
      "source": [
        "x_test.shape"
      ]
    },
    {
      "cell_type": "code",
      "execution_count": 129,
      "id": "70ffaa78",
      "metadata": {
        "colab": {
          "base_uri": "https://localhost:8080/"
        },
        "id": "70ffaa78",
        "outputId": "093347ec-9adf-40a5-e044-fd7d5a08ac58"
      },
      "outputs": [
        {
          "output_type": "execute_result",
          "data": {
            "text/plain": [
              "(10000, 10)"
            ]
          },
          "metadata": {},
          "execution_count": 129
        }
      ],
      "source": [
        "y_test.shape"
      ]
    },
    {
      "cell_type": "code",
      "execution_count": 130,
      "id": "05740cdb",
      "metadata": {
        "id": "05740cdb"
      },
      "outputs": [],
      "source": [
        "num_samples = 16"
      ]
    },
    {
      "cell_type": "code",
      "execution_count": 131,
      "id": "ddf20ea4",
      "metadata": {
        "scrolled": true,
        "colab": {
          "base_uri": "https://localhost:8080/"
        },
        "id": "ddf20ea4",
        "outputId": "62e9c712-255d-4276-ff5a-a3cc3843d3a9"
      },
      "outputs": [
        {
          "output_type": "execute_result",
          "data": {
            "text/plain": [
              "(3750, 112, 112, 1)"
            ]
          },
          "metadata": {},
          "execution_count": 131
        }
      ],
      "source": [
        "x_train_concat = rearrange(x_train, '(a b) c d -> a b c d', b=num_samples)\n",
        "x_train_concat = concat_imgs(x_train_concat)\n",
        "x_train_concat = np.expand_dims(x_train_concat, -1)\n",
        "x_train_concat.shape"
      ]
    },
    {
      "cell_type": "code",
      "execution_count": 132,
      "id": "6a54c80b",
      "metadata": {
        "colab": {
          "base_uri": "https://localhost:8080/"
        },
        "id": "6a54c80b",
        "outputId": "9eff2c20-ce1d-4b5e-9515-3f5d4a1ca092"
      },
      "outputs": [
        {
          "output_type": "execute_result",
          "data": {
            "text/plain": [
              "(625, 112, 112, 1)"
            ]
          },
          "metadata": {},
          "execution_count": 132
        }
      ],
      "source": [
        "x_test_concat = rearrange(x_test, '(a b) c d -> a b c d', b=num_samples)\n",
        "x_test_concat = concat_imgs(x_test_concat)\n",
        "x_test_concat = np.expand_dims(x_test_concat, -1)\n",
        "x_test_concat.shape"
      ]
    },
    {
      "cell_type": "code",
      "execution_count": 133,
      "id": "3568eea9",
      "metadata": {
        "colab": {
          "base_uri": "https://localhost:8080/"
        },
        "id": "3568eea9",
        "outputId": "71c023fb-5cce-455c-d56e-914192eb2e87"
      },
      "outputs": [
        {
          "output_type": "execute_result",
          "data": {
            "text/plain": [
              "(3750, 16)"
            ]
          },
          "metadata": {},
          "execution_count": 133
        }
      ],
      "source": [
        "y_train_concat = rearrange(y_train, '(a b) c -> a b c', b=num_samples)\n",
        "train_labels = np.argmax(y_train_concat, axis = 2)\n",
        "train_labels.shape"
      ]
    },
    {
      "cell_type": "code",
      "execution_count": 134,
      "id": "950d8d0b",
      "metadata": {
        "colab": {
          "base_uri": "https://localhost:8080/"
        },
        "id": "950d8d0b",
        "outputId": "2998486a-77ed-4d1c-8ee2-95c414e9835e"
      },
      "outputs": [
        {
          "output_type": "execute_result",
          "data": {
            "text/plain": [
              "(625, 16)"
            ]
          },
          "metadata": {},
          "execution_count": 134
        }
      ],
      "source": [
        "y_test_concat = rearrange(y_test, '(a b) c -> a b c', b=num_samples)\n",
        "test_labels = np.argmax(y_test_concat, axis = 2)\n",
        "test_labels.shape"
      ]
    },
    {
      "cell_type": "code",
      "execution_count": 135,
      "id": "a30c5245",
      "metadata": {
        "colab": {
          "base_uri": "https://localhost:8080/",
          "height": 265
        },
        "id": "a30c5245",
        "outputId": "24d24e2c-6913-4365-a608-cb621f9b7450"
      },
      "outputs": [
        {
          "output_type": "display_data",
          "data": {
            "image/png": "[encoded data removed]",
            "text/plain": [
              "<Figure size 288x288 with 1 Axes>"
            ]
          },
          "metadata": {
            "needs_background": "light"
          }
        },
        {
          "output_type": "stream",
          "name": "stdout",
          "text": [
            "[5 0 4 1 9 2 1 3 1 4 3 5 3 6 1 7]\n"
          ]
        }
      ],
      "source": [
        "plt.figure(figsize=(4,4))\n",
        "\n",
        "image = np.squeeze(x_train_concat[0])\n",
        "label = train_labels[0]\n",
        "plt.imshow(image, cmap='gray')\n",
        "plt.axis('off')\n",
        "    \n",
        "plt.show()\n",
        "plt.close('all')\n",
        "\n",
        "print(label)"
      ]
    },
    {
      "cell_type": "code",
      "execution_count": 136,
      "id": "3e41c9d7",
      "metadata": {
        "id": "3e41c9d7"
      },
      "outputs": [],
      "source": [
        "input_shape = (112, 112, 1)"
      ]
    },
    {
      "cell_type": "markdown",
      "id": "9e1d4182",
      "metadata": {
        "id": "9e1d4182"
      },
      "source": [
        "## Train CNN Model"
      ]
    },
    {
      "cell_type": "code",
      "execution_count": 56,
      "id": "3494626d",
      "metadata": {
        "colab": {
          "base_uri": "https://localhost:8080/"
        },
        "id": "3494626d",
        "outputId": "66a2b0c6-34e0-46a5-e08f-072cc76169d4"
      },
      "outputs": [
        {
          "output_type": "stream",
          "name": "stdout",
          "text": [
            "Model: \"sequential_1\"\n",
            "_________________________________________________________________\n",
            " Layer (type)                Output Shape              Param #   \n",
            "=================================================================\n",
            " conv2d_13 (Conv2D)          (None, 112, 112, 64)      640       \n",
            "                                                                 \n",
            " conv2d_14 (Conv2D)          (None, 112, 112, 64)      36928     \n",
            "                                                                 \n",
            " batch_normalization_6 (Batc  (None, 112, 112, 64)     256       \n",
            " hNormalization)                                                 \n",
            "                                                                 \n",
            " max_pooling2d_4 (MaxPooling  (None, 56, 56, 64)       0         \n",
            " 2D)                                                             \n",
            "                                                                 \n",
            " conv2d_15 (Conv2D)          (None, 56, 56, 128)       73856     \n",
            "                                                                 \n",
            " conv2d_16 (Conv2D)          (None, 56, 56, 128)       147584    \n",
            "                                                                 \n",
            " batch_normalization_7 (Batc  (None, 56, 56, 128)      512       \n",
            " hNormalization)                                                 \n",
            "                                                                 \n",
            " max_pooling2d_5 (MaxPooling  (None, 28, 28, 128)      0         \n",
            " 2D)                                                             \n",
            "                                                                 \n",
            " conv2d_17 (Conv2D)          (None, 28, 28, 256)       295168    \n",
            "                                                                 \n",
            " conv2d_18 (Conv2D)          (None, 28, 28, 256)       590080    \n",
            "                                                                 \n",
            " conv2d_19 (Conv2D)          (None, 28, 28, 256)       590080    \n",
            "                                                                 \n",
            " batch_normalization_8 (Batc  (None, 28, 28, 256)      1024      \n",
            " hNormalization)                                                 \n",
            "                                                                 \n",
            " max_pooling2d_6 (MaxPooling  (None, 14, 14, 256)      0         \n",
            " 2D)                                                             \n",
            "                                                                 \n",
            " conv2d_20 (Conv2D)          (None, 14, 14, 512)       1180160   \n",
            "                                                                 \n",
            " conv2d_21 (Conv2D)          (None, 14, 14, 512)       2359808   \n",
            "                                                                 \n",
            " conv2d_22 (Conv2D)          (None, 14, 14, 512)       2359808   \n",
            "                                                                 \n",
            " batch_normalization_9 (Batc  (None, 14, 14, 512)      2048      \n",
            " hNormalization)                                                 \n",
            "                                                                 \n",
            " max_pooling2d_7 (MaxPooling  (None, 7, 7, 512)        0         \n",
            " 2D)                                                             \n",
            "                                                                 \n",
            " conv2d_23 (Conv2D)          (None, 4, 4, 4096)        33558528  \n",
            "                                                                 \n",
            " dropout_2 (Dropout)         (None, 4, 4, 4096)        0         \n",
            "                                                                 \n",
            " batch_normalization_10 (Bat  (None, 4, 4, 4096)       16384     \n",
            " chNormalization)                                                \n",
            "                                                                 \n",
            " conv2d_24 (Conv2D)          (None, 4, 4, 2048)        8390656   \n",
            "                                                                 \n",
            " dropout_3 (Dropout)         (None, 4, 4, 2048)        0         \n",
            "                                                                 \n",
            " batch_normalization_11 (Bat  (None, 4, 4, 2048)       8192      \n",
            " chNormalization)                                                \n",
            "                                                                 \n",
            " conv2d_25 (Conv2D)          (None, 4, 4, 10)          20490     \n",
            "                                                                 \n",
            "=================================================================\n",
            "Total params: 49,632,202\n",
            "Trainable params: 49,617,994\n",
            "Non-trainable params: 14,208\n",
            "_________________________________________________________________\n"
          ]
        }
      ],
      "source": [
        "model = keras.Sequential(\n",
        "    [\n",
        "        keras.Input(shape=input_shape),\n",
        "        \n",
        "        # block1\n",
        "        layers.Conv2D(64, kernel_size=(3, 3), activation=\"relu\", padding='same'),\n",
        "        layers.Conv2D(64, kernel_size=(3, 3), activation=\"relu\", padding='same'),\n",
        "        layers.BatchNormalization(),\n",
        "        layers.MaxPooling2D(pool_size=(2, 2), strides=(2, 2)),\n",
        "        \n",
        "        # block2\n",
        "        layers.Conv2D(128, kernel_size=(3, 3), activation=\"relu\", padding='same'),\n",
        "        layers.Conv2D(128, kernel_size=(3, 3), activation=\"relu\", padding='same'),\n",
        "        layers.BatchNormalization(),\n",
        "        layers.MaxPooling2D(pool_size=(2, 2), strides=(2, 2)),\n",
        "        \n",
        "        # block3\n",
        "        layers.Conv2D(256, kernel_size=(3, 3), activation=\"relu\", padding='same'),\n",
        "        layers.Conv2D(256, kernel_size=(3, 3), activation=\"relu\", padding='same'),\n",
        "        layers.Conv2D(256, kernel_size=(3, 3), activation=\"relu\", padding='same'),\n",
        "        layers.BatchNormalization(),\n",
        "        layers.MaxPooling2D(pool_size=(2, 2), strides=(2, 2)),\n",
        "     \n",
        "        # block4\n",
        "        layers.Conv2D(512, kernel_size=(3, 3), activation=\"relu\", padding='same'),\n",
        "        layers.Conv2D(512, kernel_size=(3, 3), activation=\"relu\", padding='same'),\n",
        "        layers.Conv2D(512, kernel_size=(3, 3), activation=\"relu\", padding='same'),\n",
        "        layers.BatchNormalization(),\n",
        "        layers.MaxPooling2D(pool_size=(2, 2), strides=(2, 2)),\n",
        "\n",
        "        # Convolutional layers transfered from fully-connected layers\n",
        "        layers.Conv2D(4096, kernel_size=(4, 4), activation=\"relu\"),\n",
        "        layers.Dropout(0.3),\n",
        "        layers.BatchNormalization(),\n",
        "\n",
        "        layers.Conv2D(2048, kernel_size=(1, 1), activation=\"relu\"),\n",
        "        layers.Dropout(0.3),\n",
        "        layers.BatchNormalization(),\n",
        "        \n",
        "        # classify\n",
        "        layers.Conv2D(num_classes, kernel_size=(1, 1), activation=\"softmax\"),\n",
        "    ]\n",
        ")\n",
        "\n",
        "model.summary()"
      ]
    },
    {
      "cell_type": "code",
      "execution_count": 57,
      "id": "e7f69097",
      "metadata": {
        "id": "e7f69097"
      },
      "outputs": [],
      "source": [
        "# model compile\n",
        "model.compile(loss=\"categorical_crossentropy\", optimizer=\"adam\", metrics=[\"accuracy\"])"
      ]
    },
    {
      "cell_type": "markdown",
      "id": "f03a2379",
      "metadata": {
        "id": "f03a2379"
      },
      "source": [
        "### TRAIN"
      ]
    },
    {
      "cell_type": "code",
      "execution_count": 58,
      "id": "30f7406f",
      "metadata": {
        "colab": {
          "base_uri": "https://localhost:8080/"
        },
        "id": "30f7406f",
        "outputId": "33a34f2f-7c97-4627-a90e-11ef2b0cbf2a"
      },
      "outputs": [
        {
          "output_type": "stream",
          "name": "stdout",
          "text": [
            "(3750, 112, 112, 1)\n",
            "(3750, 16, 10)\n"
          ]
        }
      ],
      "source": [
        "print(x_train_concat.shape)\n",
        "print(y_train_concat.shape)"
      ]
    },
    {
      "cell_type": "code",
      "execution_count": 59,
      "id": "2fd41a21",
      "metadata": {
        "colab": {
          "base_uri": "https://localhost:8080/"
        },
        "id": "2fd41a21",
        "outputId": "43f99cf8-b222-4fc2-c448-e00bed244e08"
      },
      "outputs": [
        {
          "output_type": "execute_result",
          "data": {
            "text/plain": [
              "(3750, 16, 10)"
            ]
          },
          "metadata": {},
          "execution_count": 59
        }
      ],
      "source": [
        "y_train_concat.shape"
      ]
    },
    {
      "cell_type": "code",
      "execution_count": 60,
      "id": "70c65b1f",
      "metadata": {
        "colab": {
          "base_uri": "https://localhost:8080/"
        },
        "id": "70c65b1f",
        "outputId": "8f782fc4-155e-4965-dc7d-213d7286f88e"
      },
      "outputs": [
        {
          "output_type": "execute_result",
          "data": {
            "text/plain": [
              "(3750, 4, 4, 10)"
            ]
          },
          "metadata": {},
          "execution_count": 60
        }
      ],
      "source": [
        "test = y_train_concat.reshape((-1, 4, 4, 10))\n",
        "test.shape"
      ]
    },
    {
      "cell_type": "code",
      "execution_count": 61,
      "id": "6b09bd7c",
      "metadata": {
        "id": "6b09bd7c"
      },
      "outputs": [],
      "source": [
        "# hyperparameter\n",
        "batch_size = 128\n",
        "epochs = 50"
      ]
    },
    {
      "cell_type": "code",
      "execution_count": 62,
      "id": "f4a7a100",
      "metadata": {
        "colab": {
          "base_uri": "https://localhost:8080/"
        },
        "id": "f4a7a100",
        "outputId": "e8f02d92-f181-4562-a9b4-091644914796"
      },
      "outputs": [
        {
          "output_type": "stream",
          "name": "stdout",
          "text": [
            "Epoch 1/50\n",
            "30/30 [==============================] - 10s 310ms/step - loss: 2.9097 - accuracy: 0.1692\n",
            "Epoch 2/50\n",
            "30/30 [==============================] - 9s 311ms/step - loss: 1.9813 - accuracy: 0.2833\n",
            "Epoch 3/50\n",
            "30/30 [==============================] - 9s 311ms/step - loss: 1.4616 - accuracy: 0.4268\n",
            "Epoch 4/50\n",
            "30/30 [==============================] - 9s 312ms/step - loss: 0.9251 - accuracy: 0.6388\n",
            "Epoch 5/50\n",
            "30/30 [==============================] - 9s 312ms/step - loss: 0.4355 - accuracy: 0.8536\n",
            "Epoch 6/50\n",
            "30/30 [==============================] - 9s 312ms/step - loss: 0.1582 - accuracy: 0.9523\n",
            "Epoch 7/50\n",
            "30/30 [==============================] - 9s 313ms/step - loss: 0.0852 - accuracy: 0.9745\n",
            "Epoch 8/50\n",
            "30/30 [==============================] - 9s 312ms/step - loss: 0.0589 - accuracy: 0.9819\n",
            "Epoch 9/50\n",
            "30/30 [==============================] - 9s 313ms/step - loss: 0.0435 - accuracy: 0.9865\n",
            "Epoch 10/50\n",
            "30/30 [==============================] - 9s 314ms/step - loss: 0.0311 - accuracy: 0.9907\n",
            "Epoch 11/50\n",
            "30/30 [==============================] - 9s 314ms/step - loss: 0.0232 - accuracy: 0.9929\n",
            "Epoch 12/50\n",
            "30/30 [==============================] - 9s 313ms/step - loss: 0.0175 - accuracy: 0.9949\n",
            "Epoch 13/50\n",
            "30/30 [==============================] - 9s 313ms/step - loss: 0.0138 - accuracy: 0.9959\n",
            "Epoch 14/50\n",
            "30/30 [==============================] - 9s 313ms/step - loss: 0.0128 - accuracy: 0.9962\n",
            "Epoch 15/50\n",
            "30/30 [==============================] - 9s 313ms/step - loss: 0.0132 - accuracy: 0.9958\n",
            "Epoch 16/50\n",
            "30/30 [==============================] - 9s 313ms/step - loss: 0.0100 - accuracy: 0.9970\n",
            "Epoch 17/50\n",
            "30/30 [==============================] - 9s 313ms/step - loss: 0.0079 - accuracy: 0.9977\n",
            "Epoch 18/50\n",
            "30/30 [==============================] - 9s 314ms/step - loss: 0.0054 - accuracy: 0.9984\n",
            "Epoch 19/50\n",
            "30/30 [==============================] - 9s 313ms/step - loss: 0.0084 - accuracy: 0.9973\n",
            "Epoch 20/50\n",
            "30/30 [==============================] - 9s 314ms/step - loss: 0.0113 - accuracy: 0.9967\n",
            "Epoch 21/50\n",
            "30/30 [==============================] - 9s 313ms/step - loss: 0.0063 - accuracy: 0.9981\n",
            "Epoch 22/50\n",
            "30/30 [==============================] - 9s 314ms/step - loss: 0.0058 - accuracy: 0.9983\n",
            "Epoch 23/50\n",
            "30/30 [==============================] - 9s 312ms/step - loss: 0.0053 - accuracy: 0.9985\n",
            "Epoch 24/50\n",
            "30/30 [==============================] - 9s 313ms/step - loss: 0.0045 - accuracy: 0.9987\n",
            "Epoch 25/50\n",
            "30/30 [==============================] - 9s 313ms/step - loss: 0.0034 - accuracy: 0.9991\n",
            "Epoch 26/50\n",
            "30/30 [==============================] - 9s 313ms/step - loss: 0.0048 - accuracy: 0.9985\n",
            "Epoch 27/50\n",
            "30/30 [==============================] - 9s 313ms/step - loss: 0.0061 - accuracy: 0.9981\n",
            "Epoch 28/50\n",
            "30/30 [==============================] - 9s 313ms/step - loss: 0.0069 - accuracy: 0.9979\n",
            "Epoch 29/50\n",
            "30/30 [==============================] - 9s 313ms/step - loss: 0.0092 - accuracy: 0.9971\n",
            "Epoch 30/50\n",
            "30/30 [==============================] - 9s 313ms/step - loss: 0.0093 - accuracy: 0.9972\n",
            "Epoch 31/50\n",
            "30/30 [==============================] - 9s 314ms/step - loss: 0.0093 - accuracy: 0.9973\n",
            "Epoch 32/50\n",
            "30/30 [==============================] - 9s 313ms/step - loss: 0.0098 - accuracy: 0.9971\n",
            "Epoch 33/50\n",
            "30/30 [==============================] - 9s 313ms/step - loss: 0.0065 - accuracy: 0.9980\n",
            "Epoch 34/50\n",
            "30/30 [==============================] - 9s 313ms/step - loss: 0.0058 - accuracy: 0.9983\n",
            "Epoch 35/50\n",
            "30/30 [==============================] - 9s 313ms/step - loss: 0.0089 - accuracy: 0.9975\n",
            "Epoch 36/50\n",
            "30/30 [==============================] - 9s 314ms/step - loss: 0.0088 - accuracy: 0.9974\n",
            "Epoch 37/50\n",
            "30/30 [==============================] - 9s 313ms/step - loss: 0.0070 - accuracy: 0.9979\n",
            "Epoch 38/50\n",
            "30/30 [==============================] - 9s 313ms/step - loss: 0.0068 - accuracy: 0.9982\n",
            "Epoch 39/50\n",
            "30/30 [==============================] - 9s 313ms/step - loss: 0.0040 - accuracy: 0.9987\n",
            "Epoch 40/50\n",
            "30/30 [==============================] - 9s 313ms/step - loss: 0.0031 - accuracy: 0.9990\n",
            "Epoch 41/50\n",
            "30/30 [==============================] - 9s 314ms/step - loss: 0.0045 - accuracy: 0.9987\n",
            "Epoch 42/50\n",
            "30/30 [==============================] - 9s 313ms/step - loss: 0.0052 - accuracy: 0.9984\n",
            "Epoch 43/50\n",
            "30/30 [==============================] - 9s 313ms/step - loss: 0.0058 - accuracy: 0.9984\n",
            "Epoch 44/50\n",
            "30/30 [==============================] - 9s 313ms/step - loss: 0.0041 - accuracy: 0.9988\n",
            "Epoch 45/50\n",
            "30/30 [==============================] - 9s 313ms/step - loss: 0.0028 - accuracy: 0.9991\n",
            "Epoch 46/50\n",
            "30/30 [==============================] - 9s 313ms/step - loss: 0.0030 - accuracy: 0.9991\n",
            "Epoch 47/50\n",
            "30/30 [==============================] - 9s 313ms/step - loss: 0.0032 - accuracy: 0.9991\n",
            "Epoch 48/50\n",
            "30/30 [==============================] - 9s 314ms/step - loss: 0.0046 - accuracy: 0.9987\n",
            "Epoch 49/50\n",
            "30/30 [==============================] - 9s 313ms/step - loss: 0.0028 - accuracy: 0.9992\n",
            "Epoch 50/50\n",
            "30/30 [==============================] - 9s 314ms/step - loss: 0.0013 - accuracy: 0.9997\n"
          ]
        }
      ],
      "source": [
        "# train\n",
        "history = model.fit(x_train_concat, y_train_concat.reshape((-1, 4, 4, 10)), batch_size=batch_size, epochs=epochs)"
      ]
    },
    {
      "cell_type": "code",
      "execution_count": 63,
      "id": "8dc2daae",
      "metadata": {
        "id": "8dc2daae",
        "colab": {
          "base_uri": "https://localhost:8080/",
          "height": 295
        },
        "outputId": "6c644991-1c87-4666-ab80-7eb86a6f46b8"
      },
      "outputs": [
        {
          "output_type": "display_data",
          "data": {
            "image/png": "[encoded data removed]",
            "text/plain": [
              "<Figure size 432x288 with 1 Axes>"
            ]
          },
          "metadata": {
            "needs_background": "light"
          }
        }
      ],
      "source": [
        "# summarize history for accuracy\n",
        "plt.plot(history.history['accuracy'])\n",
        "plt.title('Train accuracy')\n",
        "plt.ylabel('accuracy')\n",
        "plt.xlabel('epoch')\n",
        "plt.savefig('CNN_accuracy.png') \n",
        "plt.show()"
      ]
    },
    {
      "cell_type": "code",
      "execution_count": 64,
      "id": "c808198c",
      "metadata": {
        "id": "c808198c",
        "colab": {
          "base_uri": "https://localhost:8080/",
          "height": 295
        },
        "outputId": "33a00692-4c1b-4fa7-d75f-c81f2e209a1e"
      },
      "outputs": [
        {
          "output_type": "display_data",
          "data": {
            "image/png": "[encoded data removed]",
            "text/plain": [
              "<Figure size 432x288 with 1 Axes>"
            ]
          },
          "metadata": {
            "needs_background": "light"
          }
        }
      ],
      "source": [
        "# summarize history for loss\n",
        "plt.plot(history.history['loss'], color=\"orange\")\n",
        "plt.title('Train loss')\n",
        "plt.ylabel('loss')\n",
        "plt.xlabel('epoch')\n",
        "plt.savefig('CNN_loss.png') \n",
        "plt.show()"
      ]
    },
    {
      "cell_type": "code",
      "execution_count": 65,
      "id": "0193983a",
      "metadata": {
        "id": "0193983a",
        "colab": {
          "base_uri": "https://localhost:8080/"
        },
        "outputId": "e9bc3108-6cb9-4aa4-abc4-5786b6af9d6a"
      },
      "outputs": [
        {
          "output_type": "stream",
          "name": "stdout",
          "text": [
            "20/20 [==============================] - 1s 30ms/step - loss: 0.0534 - accuracy: 0.9895\n",
            "Test loss: 0.05336606502532959\n",
            "Test accuracy: 0.9894999861717224\n"
          ]
        }
      ],
      "source": [
        "# check model\n",
        "score = model.evaluate(x_test_concat, y_test_concat.reshape((-1, 4, 4, 10)), verbose=1)\n",
        "print(\"Test loss:\", score[0])\n",
        "print(\"Test accuracy:\", score[1])"
      ]
    },
    {
      "cell_type": "code",
      "execution_count": 66,
      "id": "56a4e7b2",
      "metadata": {
        "id": "56a4e7b2"
      },
      "outputs": [],
      "source": [
        "model.save('CNN_FCN.h5')"
      ]
    },
    {
      "cell_type": "code",
      "source": [
        "x_coords = [0, 28, 56, 84]\n",
        "y_coords = [0, 28, 56, 84]\n",
        "coords = []\n",
        "\n",
        "for y in y_coords:\n",
        "    for x in x_coords:\n",
        "        coords.append((y,x))\n",
        "\n",
        "print(coords)"
      ],
      "metadata": {
        "colab": {
          "base_uri": "https://localhost:8080/"
        },
        "id": "eaZEfLIcWAdg",
        "outputId": "da648a5c-902d-4df2-e5b4-45cc42e9d101"
      },
      "id": "eaZEfLIcWAdg",
      "execution_count": 67,
      "outputs": [
        {
          "output_type": "stream",
          "name": "stdout",
          "text": [
            "[(0, 0), (0, 28), (0, 56), (0, 84), (28, 0), (28, 28), (28, 56), (28, 84), (56, 0), (56, 28), (56, 56), (56, 84), (84, 0), (84, 28), (84, 56), (84, 84)]\n"
          ]
        }
      ]
    },
    {
      "cell_type": "code",
      "source": [
        "plt.figure(figsize=(4,4))\n",
        "\n",
        "image = np.squeeze(x_test_concat[0])\n",
        "label = test_labels[0]\n",
        "plt.imshow(image, cmap='gray')\n",
        "plt.axis('off')\n",
        "    \n",
        "plt.show()\n",
        "plt.close('all')\n",
        "\n",
        "print(label)"
      ],
      "metadata": {
        "colab": {
          "base_uri": "https://localhost:8080/",
          "height": 265
        },
        "id": "2rz5KacFWJcn",
        "outputId": "de45a2a8-bcf7-428c-dbe2-9fe9be7154e6"
      },
      "id": "2rz5KacFWJcn",
      "execution_count": 68,
      "outputs": [
        {
          "output_type": "display_data",
          "data": {
            "image/png": "[encoded data removed]",
            "text/plain": [
              "<Figure size 288x288 with 1 Axes>"
            ]
          },
          "metadata": {
            "needs_background": "light"
          }
        },
        {
          "output_type": "stream",
          "name": "stdout",
          "text": [
            "[7 2 1 0 4 1 4 9 5 9 0 6 9 0 1 5]\n"
          ]
        }
      ]
    },
    {
      "cell_type": "code",
      "source": [
        "x_test_concat[0].shape"
      ],
      "metadata": {
        "colab": {
          "base_uri": "https://localhost:8080/"
        },
        "id": "6jRFAcJOabFQ",
        "outputId": "3ce2d337-c372-481c-d825-92fcc668705b"
      },
      "id": "6jRFAcJOabFQ",
      "execution_count": 88,
      "outputs": [
        {
          "output_type": "execute_result",
          "data": {
            "text/plain": [
              "(112, 112, 1)"
            ]
          },
          "metadata": {},
          "execution_count": 88
        }
      ]
    },
    {
      "cell_type": "code",
      "source": [
        "test_labels[0]"
      ],
      "metadata": {
        "colab": {
          "base_uri": "https://localhost:8080/"
        },
        "id": "y3Y6ejEsbhZR",
        "outputId": "13b7830a-9da2-4951-af1f-8d8db5aaa624"
      },
      "id": "y3Y6ejEsbhZR",
      "execution_count": 101,
      "outputs": [
        {
          "output_type": "execute_result",
          "data": {
            "text/plain": [
              "array([7, 2, 1, 0, 4, 1, 4, 9, 5, 9, 0, 6, 9, 0, 1, 5])"
            ]
          },
          "metadata": {},
          "execution_count": 101
        }
      ]
    },
    {
      "cell_type": "code",
      "source": [
        "test = np.expand_dims(x_test_concat[0], 0)\n",
        "test.shape"
      ],
      "metadata": {
        "colab": {
          "base_uri": "https://localhost:8080/"
        },
        "id": "olYk0MFcam7F",
        "outputId": "b6175192-ef41-461f-9760-2b8436d45206"
      },
      "id": "olYk0MFcam7F",
      "execution_count": 112,
      "outputs": [
        {
          "output_type": "execute_result",
          "data": {
            "text/plain": [
              "(1, 112, 112, 1)"
            ]
          },
          "metadata": {},
          "execution_count": 112
        }
      ]
    },
    {
      "cell_type": "code",
      "source": [
        "np.squeeze(model.predict(test)).shape"
      ],
      "metadata": {
        "colab": {
          "base_uri": "https://localhost:8080/"
        },
        "id": "xIQgIRRAbltM",
        "outputId": "c270f806-3631-4dde-da07-eec670493e07"
      },
      "id": "xIQgIRRAbltM",
      "execution_count": 113,
      "outputs": [
        {
          "output_type": "execute_result",
          "data": {
            "text/plain": [
              "(4, 4, 10)"
            ]
          },
          "metadata": {},
          "execution_count": 113
        }
      ]
    },
    {
      "cell_type": "code",
      "source": [
        "num_samples = 16\n",
        "\n",
        "# test = y_train_concat.reshape((-1, 4, 4, 10))\n",
        "\n",
        "reshape_test = rearrange(model.predict(test), 'a b c d -> (a b c) d')\n",
        "reshape_test.shape"
      ],
      "metadata": {
        "colab": {
          "base_uri": "https://localhost:8080/"
        },
        "id": "EuGAUHi-b8sV",
        "outputId": "16d01d78-dc70-4ad3-89e5-6088d2f38722"
      },
      "id": "EuGAUHi-b8sV",
      "execution_count": 115,
      "outputs": [
        {
          "output_type": "execute_result",
          "data": {
            "text/plain": [
              "(16, 10)"
            ]
          },
          "metadata": {},
          "execution_count": 115
        }
      ]
    },
    {
      "cell_type": "code",
      "source": [
        "np.argmax(reshape_test, axis =1)"
      ],
      "metadata": {
        "colab": {
          "base_uri": "https://localhost:8080/"
        },
        "id": "JaMsR1jQaPr-",
        "outputId": "952c8804-f496-4479-f373-05ae4b3ce2a5"
      },
      "id": "JaMsR1jQaPr-",
      "execution_count": 117,
      "outputs": [
        {
          "output_type": "execute_result",
          "data": {
            "text/plain": [
              "array([7, 2, 1, 0, 4, 1, 4, 9, 5, 9, 0, 6, 9, 0, 1, 5])"
            ]
          },
          "metadata": {},
          "execution_count": 117
        }
      ]
    },
    {
      "cell_type": "code",
      "source": [
        "def visualization(image, viz):\n",
        "    rect = []\n",
        "    for y,x in viz:\n",
        "        rect.append((x,y,28,28))\n",
        "    \n",
        "    plt.figure(figsize=(4,4))\n",
        "\n",
        "    plt.imshow(image, cmap='gray')\n",
        "    plt.axis('off')\n",
        "    \n",
        "    ax = plt.gca()\n",
        "    \n",
        "    for (x, y, w, h) in rect:\n",
        "        ax.add_patch(\n",
        "            patches.Rectangle(\n",
        "                (x, y), w, h,\n",
        "                edgecolor='red',\n",
        "                facecolor='none',\n",
        "                linewidth=2,\n",
        "                fill=True))\n",
        "\n",
        "    plt.show()\n",
        "    plt.close('all')"
      ],
      "metadata": {
        "id": "sqNUgtQuX9YJ"
      },
      "id": "sqNUgtQuX9YJ",
      "execution_count": 91,
      "outputs": []
    },
    {
      "cell_type": "code",
      "source": [
        "def digit_detection(image, true_lbl, target, coords = coords):\n",
        "    prediction = []\n",
        "    viz = []\n",
        "    \n",
        "    # predict\n",
        "    pred_img = np.expand_dims(image, 0)\n",
        "    pred = rearrange(model.predict(pred_img), 'a b c d -> (a b c) d')\n",
        "    pred_lbl = np.argmax(pred, axis =1)\n",
        "\n",
        "    print(f'TRUE :            {true_lbl}')\n",
        "    print(f'PREDICTED :       {pred_lbl}\\n')\n",
        "\n",
        "    for i, p in enumerate(pred_lbl):\n",
        "        if p == target:\n",
        "            viz.append(coords[i])\n",
        "    \n",
        "    print(f'TARGET :          {target}\\n')\n",
        "\n",
        "    viz_img = np.squeeze(image)\n",
        "\n",
        "    visualization(viz_img, viz)     \n"
      ],
      "metadata": {
        "id": "f9XATALGWUw8"
      },
      "id": "f9XATALGWUw8",
      "execution_count": 143,
      "outputs": []
    },
    {
      "cell_type": "code",
      "source": [
        "img_idx  = 1\n",
        "target = 7\n",
        "\n",
        "digit_detection(x_test_concat[img_idx], test_labels[img_idx], target)"
      ],
      "metadata": {
        "colab": {
          "base_uri": "https://localhost:8080/",
          "height": 334
        },
        "id": "TIgZC1U8ZgxW",
        "outputId": "690d2b4b-34f7-48fb-9fb0-e9be8a0c9a8e"
      },
      "id": "TIgZC1U8ZgxW",
      "execution_count": 144,
      "outputs": [
        {
          "output_type": "stream",
          "name": "stdout",
          "text": [
            "TRUE :            [9 7 3 4 9 6 6 5 4 0 7 4 0 1 3 1]\n",
            "PREDICTED :       [9 7 3 4 9 6 6 5 4 0 7 4 0 1 3 1]\n",
            "\n",
            "TARGET :          7\n",
            "\n"
          ]
        },
        {
          "output_type": "display_data",
          "data": {
            "image/png": "[encoded data removed]",
            "text/plain": [
              "<Figure size 288x288 with 1 Axes>"
            ]
          },
          "metadata": {
            "needs_background": "light"
          }
        }
      ]
    },
    {
      "cell_type": "code",
      "source": [
        "img_idx  = 1\n",
        "target = 1\n",
        "\n",
        "digit_detection(x_test_concat[img_idx], test_labels[img_idx], target)"
      ],
      "metadata": {
        "colab": {
          "base_uri": "https://localhost:8080/",
          "height": 334
        },
        "id": "5JYpbzFnZ-jj",
        "outputId": "95569c52-234d-47ac-febe-62572739b499"
      },
      "id": "5JYpbzFnZ-jj",
      "execution_count": 145,
      "outputs": [
        {
          "output_type": "stream",
          "name": "stdout",
          "text": [
            "TRUE :            [9 7 3 4 9 6 6 5 4 0 7 4 0 1 3 1]\n",
            "PREDICTED :       [9 7 3 4 9 6 6 5 4 0 7 4 0 1 3 1]\n",
            "\n",
            "TARGET :          1\n",
            "\n"
          ]
        },
        {
          "output_type": "display_data",
          "data": {
            "image/png": "[encoded data removed]",
            "text/plain": [
              "<Figure size 288x288 with 1 Axes>"
            ]
          },
          "metadata": {
            "needs_background": "light"
          }
        }
      ]
    },
    {
      "cell_type": "code",
      "source": [
        "img_idx  = 2\n",
        "target = 1\n",
        "\n",
        "digit_detection(x_test_concat[img_idx], test_labels[img_idx], target)"
      ],
      "metadata": {
        "colab": {
          "base_uri": "https://localhost:8080/",
          "height": 334
        },
        "id": "ve1pSPVxeB9D",
        "outputId": "57dd7bb6-4edc-4a69-da93-f6b68d5c807c"
      },
      "id": "ve1pSPVxeB9D",
      "execution_count": 146,
      "outputs": [
        {
          "output_type": "stream",
          "name": "stdout",
          "text": [
            "TRUE :            [3 4 7 2 7 1 2 1 1 7 4 2 3 5 1 2]\n",
            "PREDICTED :       [3 4 7 2 7 1 2 1 1 7 4 2 3 5 1 2]\n",
            "\n",
            "TARGET :          1\n",
            "\n"
          ]
        },
        {
          "output_type": "display_data",
          "data": {
            "image/png": "[encoded data removed]",
            "text/plain": [
              "<Figure size 288x288 with 1 Axes>"
            ]
          },
          "metadata": {
            "needs_background": "light"
          }
        }
      ]
    },
    {
      "cell_type": "code",
      "source": [
        "img_idx  = 2\n",
        "target = 4\n",
        "\n",
        "digit_detection(x_test_concat[img_idx], test_labels[img_idx], target)"
      ],
      "metadata": {
        "colab": {
          "base_uri": "https://localhost:8080/",
          "height": 334
        },
        "id": "1LronoIreDWv",
        "outputId": "82a53485-4427-4f98-8f6c-db690d6bd656"
      },
      "id": "1LronoIreDWv",
      "execution_count": 147,
      "outputs": [
        {
          "output_type": "stream",
          "name": "stdout",
          "text": [
            "TRUE :            [3 4 7 2 7 1 2 1 1 7 4 2 3 5 1 2]\n",
            "PREDICTED :       [3 4 7 2 7 1 2 1 1 7 4 2 3 5 1 2]\n",
            "\n",
            "TARGET :          4\n",
            "\n"
          ]
        },
        {
          "output_type": "display_data",
          "data": {
            "image/png": "[encoded data removed]",
            "text/plain": [
              "<Figure size 288x288 with 1 Axes>"
            ]
          },
          "metadata": {
            "needs_background": "light"
          }
        }
      ]
    },
    {
      "cell_type": "code",
      "source": [
        ""
      ],
      "metadata": {
        "id": "1CcnZUG-eE_M"
      },
      "id": "1CcnZUG-eE_M",
      "execution_count": null,
      "outputs": []
    }
  ],
  "metadata": {
    "kernelspec": {
      "display_name": "Python 3",
      "language": "python",
      "name": "python3"
    },
    "language_info": {
      "codemirror_mode": {
        "name": "ipython",
        "version": 3
      },
      "file_extension": ".py",
      "mimetype": "text/x-python",
      "name": "python",
      "nbconvert_exporter": "python",
      "pygments_lexer": "ipython3",
      "version": "3.6.9"
    },
    "colab": {
      "name": "1_CNN_FCN.ipynb",
      "provenance": [],
      "collapsed_sections": [],
      "machine_shape": "hm"
    },
    "accelerator": "GPU"
  },
  "nbformat": 4,
  "nbformat_minor": 5
}