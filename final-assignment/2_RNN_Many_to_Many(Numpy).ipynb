{
 "cells": [
  {
   "cell_type": "markdown",
   "id": "4f63d0e5",
   "metadata": {},
   "source": [
    "# (참고) Many-to-Many \n",
    "\n",
    "https://github.com/CaptainE/RNN-LSTM-in-numpy/blob/master/RNN_LSTM_from_scratch.ipynb\n",
    "\n",
    "![rnn-unroll image](https://github.com/DeepLearningDTU/02456-deep-learning-with-PyTorch/blob/master/static_files/rnn-unfold.png?raw=1)\n",
    "\n",
    "- $x$ is the input sequence of samples, \n",
    "- $U$ is a weight matrix applied to the given input sample,\n",
    "- $V$ is a weight matrix used for the recurrent computation in order to pass memory along the sequence,\n",
    "- $W$ is a weight matrix used to compute the output of the every timestep (given that every timestep requires an output),\n",
    "- $h$ is the hidden state (the network's memory) for a given time step, and\n",
    "- $o$ is the resulting output.\n",
    "\n",
    "When the network is unrolled as shown, it is easier to refer to a timestep, $t$.\n",
    "We have the following computations through the network:\n",
    "\n",
    "- $h_t = f(U\\,{x_t} + V\\,{h_{t-1}})$, where $f$ usually is an activation function, e.g. $\\mathrm{tanh}$.\n",
    "- $o_t = \\mathrm{softmax}(W\\,{h_t})$"
   ]
  },
  {
   "cell_type": "markdown",
   "id": "ca524aa8",
   "metadata": {},
   "source": [
    "### Using Full-gradient"
   ]
  },
  {
   "cell_type": "code",
   "execution_count": 1,
   "id": "52206ec2",
   "metadata": {},
   "outputs": [],
   "source": [
    "import numpy as np\n",
    "import matplotlib.pyplot as plt\n",
    "import tensorflow as tf\n",
    "%matplotlib inline"
   ]
  },
  {
   "cell_type": "markdown",
   "id": "9b0cda62",
   "metadata": {},
   "source": [
    "#### Sigmoid activation"
   ]
  },
  {
   "cell_type": "code",
   "execution_count": 2,
   "id": "fd52f3ac",
   "metadata": {},
   "outputs": [],
   "source": [
    "def sigmoid(x, derivative=False):\n",
    "    \"\"\"\n",
    "    Computes the element-wise sigmoid activation function for an array x.\n",
    "\n",
    "    Args:\n",
    "     `x`: the array where the function is applied\n",
    "     `derivative`: if set to True will return the derivative instead of the forward pass\n",
    "    \"\"\"\n",
    "    x_safe = x + 1e-12\n",
    "    f = 1 / (1 + np.exp(-x_safe))\n",
    "    \n",
    "    if derivative: # Return the derivative of the function evaluated at x\n",
    "        return f * (1 - f)\n",
    "    else: # Return the forward pass of the function at x\n",
    "        return f"
   ]
  },
  {
   "cell_type": "markdown",
   "id": "62524e8b",
   "metadata": {},
   "source": [
    "#### Hyperbolic Tangent activation"
   ]
  },
  {
   "cell_type": "code",
   "execution_count": 3,
   "id": "36472c97",
   "metadata": {},
   "outputs": [],
   "source": [
    "def tanh(x, derivative=False):\n",
    "    \"\"\"\n",
    "    Computes the element-wise tanh activation function for an array x.\n",
    "\n",
    "    Args:\n",
    "     `x`: the array where the function is applied\n",
    "     `derivative`: if set to True will return the derivative instead of the forward pass\n",
    "    \"\"\"\n",
    "    x_safe = x + 1e-12\n",
    "    f = (np.exp(x_safe)-np.exp(-x_safe))/(np.exp(x_safe)+np.exp(-x_safe))\n",
    "    \n",
    "    if derivative: # Return the derivative of the function evaluated at x\n",
    "        return 1-f**2\n",
    "    else: # Return the forward pass of the function at x\n",
    "        return f"
   ]
  },
  {
   "cell_type": "markdown",
   "id": "745295bf",
   "metadata": {},
   "source": [
    "#### Softmax"
   ]
  },
  {
   "cell_type": "code",
   "execution_count": 4,
   "id": "bea933b1",
   "metadata": {},
   "outputs": [],
   "source": [
    "def softmax(x, derivative=False):\n",
    "    \"\"\"\n",
    "    Computes the softmax for an array x.\n",
    "    \n",
    "    Args:\n",
    "     `x`: the array where the function is applied\n",
    "     `derivative`: if set to True will return the derivative instead of the forward pass\n",
    "    \"\"\"\n",
    "    x_safe = x + 1e-12\n",
    "    f = np.exp(x_safe) / np.sum(np.exp(x_safe))\n",
    "    \n",
    "    if derivative: # Return the derivative of the function evaluated at x\n",
    "        pass # We will not need this one\n",
    "    else: # Return the forward pass of the function at x\n",
    "        return f"
   ]
  },
  {
   "cell_type": "markdown",
   "id": "f3c81105",
   "metadata": {},
   "source": [
    "### Define Embeddings"
   ]
  },
  {
   "cell_type": "code",
   "execution_count": 5,
   "id": "339b5d2a",
   "metadata": {},
   "outputs": [
    {
     "name": "stdout",
     "output_type": "stream",
     "text": [
      "4\n"
     ]
    },
    {
     "data": {
      "text/plain": [
       "['M', 'A', 'T', 'H']"
      ]
     },
     "execution_count": 5,
     "metadata": {},
     "output_type": "execute_result"
    }
   ],
   "source": [
    "idx2char = [ _ for _ in 'MATH']\n",
    "print(len(idx2char))\n",
    "idx2char"
   ]
  },
  {
   "cell_type": "code",
   "execution_count": 6,
   "id": "093179ac",
   "metadata": {},
   "outputs": [],
   "source": [
    "x_data = [[0,1,2]] # MAT\n",
    "y_data = [[1,2,3]]  # ATH"
   ]
  },
  {
   "cell_type": "code",
   "execution_count": 7,
   "id": "cc6d8533",
   "metadata": {},
   "outputs": [
    {
     "data": {
      "text/plain": [
       "array([[1., 0., 0., 0.],\n",
       "       [0., 1., 0., 0.],\n",
       "       [0., 0., 1., 0.]], dtype=float32)"
      ]
     },
     "execution_count": 7,
     "metadata": {},
     "output_type": "execute_result"
    }
   ],
   "source": [
    "input = tf.keras.utils.to_categorical(x_data, num_classes=len(idx2char))\n",
    "input = np.squeeze(input)\n",
    "input"
   ]
  },
  {
   "cell_type": "code",
   "execution_count": 8,
   "id": "ac2cada4",
   "metadata": {},
   "outputs": [
    {
     "data": {
      "text/plain": [
       "array([[0., 1., 0., 0.],\n",
       "       [0., 0., 1., 0.],\n",
       "       [0., 0., 0., 1.]], dtype=float32)"
      ]
     },
     "execution_count": 8,
     "metadata": {},
     "output_type": "execute_result"
    }
   ],
   "source": [
    "output = tf.keras.utils.to_categorical(y_data, num_classes=len(idx2char))\n",
    "output = np.squeeze(output)\n",
    "output"
   ]
  },
  {
   "cell_type": "code",
   "execution_count": 9,
   "id": "e63b8a3a",
   "metadata": {},
   "outputs": [
    {
     "data": {
      "text/plain": [
       "3"
      ]
     },
     "execution_count": 9,
     "metadata": {},
     "output_type": "execute_result"
    }
   ],
   "source": [
    "np.size(input, 0)"
   ]
  },
  {
   "cell_type": "code",
   "execution_count": 10,
   "id": "2d390be8",
   "metadata": {},
   "outputs": [
    {
     "name": "stdout",
     "output_type": "stream",
     "text": [
      "number of samples : 3\n",
      "dimension of the samples of input : 4\n",
      "dimension of the sample of outputs : 4\n",
      "number of hidden units : 20\n"
     ]
    }
   ],
   "source": [
    "N = np.size(input,0) # number of samples\n",
    "Ni = np.size(input,1) # dimension of the samples of input\n",
    "No = np.size(output,1) # dimension of the sample of output\n",
    "Nh = 20 # number of hidden units\n",
    "\n",
    "print('number of samples :', N)\n",
    "print('dimension of the samples of input :', Ni)\n",
    "print('dimension of the sample of outputs :', No)\n",
    "print('number of hidden units :', Nh)"
   ]
  },
  {
   "cell_type": "code",
   "execution_count": 13,
   "id": "826a865e",
   "metadata": {},
   "outputs": [
    {
     "name": "stdout",
     "output_type": "stream",
     "text": [
      "(0 epoch) LOSS : 1.5105639399861133\n",
      "(100 epoch) LOSS : 1.494077816616058\n",
      "(200 epoch) LOSS : 1.4766619838052086\n",
      "(300 epoch) LOSS : 1.458860939003921\n",
      "(400 epoch) LOSS : 1.4402753955495373\n",
      "(500 epoch) LOSS : 1.4205005592567632\n",
      "(600 epoch) LOSS : 1.3991160319098572\n",
      "(700 epoch) LOSS : 1.375670179314577\n",
      "(800 epoch) LOSS : 1.3496544874747258\n",
      "(900 epoch) LOSS : 1.3204620750210754\n",
      "(1000 epoch) LOSS : 1.2873279375209405\n",
      "(1100 epoch) LOSS : 1.2492726446132625\n",
      "(1200 epoch) LOSS : 1.2051735551971048\n",
      "(1300 epoch) LOSS : 1.1544369234726646\n",
      "(1400 epoch) LOSS : 1.0994410532100831\n",
      "(1500 epoch) LOSS : 1.049358968415837\n",
      "(1600 epoch) LOSS : 1.0149389635183919\n",
      "(1700 epoch) LOSS : 0.9941858733031297\n",
      "(1800 epoch) LOSS : 0.9794918940502386\n",
      "(1900 epoch) LOSS : 0.9678639659935747\n"
     ]
    },
    {
     "name": "stderr",
     "output_type": "stream",
     "text": [
      "/usr/local/lib/python3.6/dist-packages/ipykernel_launcher.py:77: MatplotlibDeprecationWarning: Case-insensitive properties were deprecated in 3.3 and support will be removed two minor releases later\n",
      "/usr/local/lib/python3.6/dist-packages/ipykernel_launcher.py:78: MatplotlibDeprecationWarning: Case-insensitive properties were deprecated in 3.3 and support will be removed two minor releases later\n"
     ]
    },
    {
     "data": {
      "image/png": "[encoded data removed]",
      "text/plain": [
       "<Figure size 720x360 with 1 Axes>"
      ]
     },
     "metadata": {
      "needs_background": "light"
     },
     "output_type": "display_data"
    }
   ],
   "source": [
    "# learning rate\n",
    "lr_rate = 0.003\n",
    "\n",
    "# x->h\n",
    "U = 2/np.sqrt(Nh)*(np.random.rand(Nh,Ni) - 0.5) # Xavier initialization\n",
    "\n",
    "# prev_h->next_h\n",
    "V = 2/np.sqrt(Nh)*(np.random.rand(Nh,Nh) - 0.5) # Xavier initialization\n",
    "\n",
    "# h->o\n",
    "W = 2/np.sqrt(Nh)*(np.random.rand(No,Nh) - 0.5) # Xavier initialization\n",
    "\n",
    "# init epoch, history\n",
    "t_ = []\n",
    "loss_ = []\n",
    "\n",
    "## TRAIN\n",
    "hidden = np.zeros(Nh)\n",
    "\n",
    "for epoch in range(0,2000):\n",
    "    loss = 0\n",
    "    \n",
    "    for id_ in range(0,N):\n",
    "        # Forward\n",
    "        dU = 0*U\n",
    "        dW = 0*W\n",
    "        dV = 0*V\n",
    "        \n",
    "        # get x\n",
    "        x = input[id_]\n",
    "        S = np.dot(U,x)\n",
    "        H = np.dot(V, hidden)\n",
    "        \n",
    "        # update hidden\n",
    "        hidden = tanh(S) + H\n",
    "        \n",
    "        # get output\n",
    "        y = sigmoid(np.dot(W, hidden))\n",
    "        d = output[id_]\n",
    "        \n",
    "        # Backward\n",
    "        # Update W\n",
    "        for j in range(0,Nh):\n",
    "            for i in range(0,No):\n",
    "                # (y[i]*(1-y[i]))는 첫번째 sigmoid의 미분값\n",
    "                dW[i,j] = dW[i,j] + (tanh(S[j])+ H[j])*(y[i]*(1-y[i]))*(y[i]-d[i])\n",
    "                \n",
    "        W = W - lr_rate*dW\n",
    "        \n",
    "        # Update V\n",
    "        for k in range(0,Nh):\n",
    "            for j in range(0,Nh):\n",
    "                for i in range(0,No):\n",
    "                    dV[j,k] = dV[j,k] + W[i,j] * hidden[k] * (y[i]*(1-y[i])) * (y[i]-d[i])\n",
    "        \n",
    "        V = V - lr_rate*dV\n",
    "\n",
    "        # Update U\n",
    "        for k in range(0,Ni):\n",
    "            for j in range(0,Nh):\n",
    "                for i in range(0,No):\n",
    "                    # (1-tanh(S[j])**2)는 tanh의 미분값\n",
    "                    dU[j,k] = dU[j,k] + W[i,j] * x[k] * (1-tanh(S[j])**2) * (y[i]*(1-y[i])) * (y[i]-d[i]) \n",
    "        \n",
    "        U = U - lr_rate*dU\n",
    "        \n",
    "        loss = loss + 1/2*np.linalg.norm(y-d)\n",
    "        \n",
    "    if np.mod(epoch,100) == 0:\n",
    "        t_ = np.append(t_,epoch)\n",
    "        loss_ = np.append(loss_,loss)\n",
    "        print(\"(\", epoch, \" epoch) LOSS : \", loss, sep = '')\n",
    "        \n",
    "plt.figure(num=0,figsize=[10,5])\n",
    "plt.plot(t_,loss_,marker=\"\")\n",
    "plt.title('Loss decay')\n",
    "plt.xlabel('epoch',FontSize=20)\n",
    "plt.ylabel('Loss',FontSize=20)\n",
    "plt.show()"
   ]
  },
  {
   "cell_type": "code",
   "execution_count": 18,
   "id": "92b1af2f",
   "metadata": {},
   "outputs": [
    {
     "name": "stdout",
     "output_type": "stream",
     "text": [
      "[0, 1, 0, 0] / A\n",
      "[0, 0, 1, 0] / T\n",
      "[0, 0, 0, 1] / H\n"
     ]
    }
   ],
   "source": [
    "## TEST\n",
    "hidden = np.zeros(Nh)\n",
    "\n",
    "for id_ in range(0,N):\n",
    "    pred = [0,0,0,0]\n",
    "    \n",
    "    x = input[id_]\n",
    "    S = np.dot(U,x)\n",
    "    H = np.dot(V, hidden)\n",
    "        \n",
    "    # update hidden\n",
    "    hidden = tanh(S) + H\n",
    "\n",
    "    # get output\n",
    "    y = sigmoid(np.dot(W, hidden))\n",
    "    \n",
    "    pred[np.argmax(y)]=1\n",
    "    print(pred, \"/\", idx2char[np.argmax(y)])"
   ]
  },
  {
   "cell_type": "markdown",
   "id": "c635e7a2",
   "metadata": {},
   "source": [
    "---"
   ]
  },
  {
   "cell_type": "markdown",
   "id": "8e987139",
   "metadata": {},
   "source": [
    "### Using Delta Rule\n",
    "\n",
    "- input : `MAT` -> output : `H`"
   ]
  },
  {
   "cell_type": "code",
   "execution_count": 20,
   "id": "604ebecc",
   "metadata": {},
   "outputs": [
    {
     "name": "stdout",
     "output_type": "stream",
     "text": [
      "['M', 'A', 'T', 'H']\n"
     ]
    }
   ],
   "source": [
    "indx2char = [_ for _ in 'MATH']\n",
    "print(indx2char)\n",
    "\n",
    "M=[1,0,0,0]; A=[0,1,0,0]; T=[0,0,1,0]; H=[0,0,0,1];\n",
    "\n",
    "input = [M, A, T]\n",
    "output = [A, T, H]"
   ]
  },
  {
   "cell_type": "code",
   "execution_count": 21,
   "id": "dbfaee1d",
   "metadata": {},
   "outputs": [
    {
     "data": {
      "text/plain": [
       "[[1, 0, 0, 0], [0, 1, 0, 0], [0, 0, 1, 0]]"
      ]
     },
     "execution_count": 21,
     "metadata": {},
     "output_type": "execute_result"
    }
   ],
   "source": [
    "input"
   ]
  },
  {
   "cell_type": "code",
   "execution_count": 22,
   "id": "73cd5427",
   "metadata": {},
   "outputs": [
    {
     "data": {
      "text/plain": [
       "[[0, 1, 0, 0], [0, 0, 1, 0], [0, 0, 0, 1]]"
      ]
     },
     "execution_count": 22,
     "metadata": {},
     "output_type": "execute_result"
    }
   ],
   "source": [
    "output"
   ]
  },
  {
   "cell_type": "code",
   "execution_count": 23,
   "id": "79245136",
   "metadata": {},
   "outputs": [
    {
     "name": "stdout",
     "output_type": "stream",
     "text": [
      "number of samples : 3\n",
      "dimension of the samples of input : 4\n",
      "dimension of the sample of outputs : 4\n",
      "number of hidden units : 20\n"
     ]
    }
   ],
   "source": [
    "N = np.size(input,0) # number of samples\n",
    "Ni = np.size(input,1) # dimension of the samples of input\n",
    "No = np.size(output,1) # dimension of the sample of output\n",
    "Nh = 20 # number of hidden units\n",
    "\n",
    "print('number of samples :', N)\n",
    "print('dimension of the samples of input :', Ni)\n",
    "print('dimension of the sample of outputs :', No)\n",
    "print('number of hidden units :', Nh)"
   ]
  },
  {
   "cell_type": "code",
   "execution_count": 26,
   "id": "6954faa9",
   "metadata": {
    "scrolled": true
   },
   "outputs": [
    {
     "name": "stdout",
     "output_type": "stream",
     "text": [
      "0 th epoch trained \t| 1.5266847001249944\n",
      "50 th epoch trained \t| 1.4593835434213664\n",
      "100 th epoch trained \t| 1.394617830200013\n",
      "150 th epoch trained \t| 1.3326869325065807\n",
      "200 th epoch trained \t| 1.2738018971540517\n",
      "250 th epoch trained \t| 1.218086190026328\n",
      "300 th epoch trained \t| 1.16558289153304\n",
      "350 th epoch trained \t| 1.116266388048653\n",
      "400 th epoch trained \t| 1.070056300272467\n",
      "450 th epoch trained \t| 1.0268316610426322\n",
      "500 th epoch trained \t| 0.986443928748518\n",
      "550 th epoch trained \t| 0.9487280443712971\n",
      "600 th epoch trained \t| 0.9135112538725791\n",
      "650 th epoch trained \t| 0.8806197665513278\n",
      "700 th epoch trained \t| 0.8498835135952293\n",
      "750 th epoch trained \t| 0.8211393479916634\n",
      "800 th epoch trained \t| 0.7942330298657956\n",
      "850 th epoch trained \t| 0.7690203048390085\n",
      "900 th epoch trained \t| 0.7453673308072526\n",
      "950 th epoch trained \t| 0.7231506546380032\n",
      "1000 th epoch trained \t| 0.7022568917594385\n",
      "1050 th epoch trained \t| 0.6825822211968702\n",
      "1100 th epoch trained \t| 0.6640317766072362\n",
      "1150 th epoch trained \t| 0.6465189894171937\n",
      "1200 th epoch trained \t| 0.629964922004719\n",
      "1250 th epoch trained \t| 0.614297615664908\n",
      "1300 th epoch trained \t| 0.5994514686986858\n",
      "1350 th epoch trained \t| 0.5853666533933052\n",
      "1400 th epoch trained \t| 0.5719885761656646\n",
      "1450 th epoch trained \t| 0.5592673821334151\n",
      "1500 th epoch trained \t| 0.5471575034316365\n",
      "1550 th epoch trained \t| 0.5356172493869465\n",
      "1600 th epoch trained \t| 0.5246084359664271\n",
      "1650 th epoch trained \t| 0.5140960515712287\n",
      "1700 th epoch trained \t| 0.5040479561276617\n",
      "1750 th epoch trained \t| 0.4944346104603317\n",
      "1800 th epoch trained \t| 0.4852288330557285\n",
      "1850 th epoch trained \t| 0.476405581501829\n",
      "1900 th epoch trained \t| 0.4679417560934475\n",
      "1950 th epoch trained \t| 0.45981602330693505\n"
     ]
    },
    {
     "name": "stderr",
     "output_type": "stream",
     "text": [
      "/usr/local/lib/python3.6/dist-packages/ipykernel_launcher.py:100: MatplotlibDeprecationWarning: Case-insensitive properties were deprecated in 3.3 and support will be removed two minor releases later\n",
      "/usr/local/lib/python3.6/dist-packages/ipykernel_launcher.py:101: MatplotlibDeprecationWarning: Case-insensitive properties were deprecated in 3.3 and support will be removed two minor releases later\n"
     ]
    },
    {
     "data": {
      "image/png": "[encoded data removed]",
      "text/plain": [
       "<Figure size 720x360 with 1 Axes>"
      ]
     },
     "metadata": {
      "needs_background": "light"
     },
     "output_type": "display_data"
    },
    {
     "name": "stdout",
     "output_type": "stream",
     "text": [
      "======================= FINISH =========================\n"
     ]
    }
   ],
   "source": [
    "# learning rate\n",
    "lr_rate = 0.003\n",
    "\n",
    "U = 2/np.sqrt(Nh)*(np.random.rand(Nh,Ni) - 0.5) # Xavier initialization\n",
    "V = 2/np.sqrt(Nh)*(np.random.rand(Nh,Nh) - 0.5) # Xavier initialization\n",
    "W = 2/np.sqrt(Nh)*(np.random.rand(No,Nh) - 0.5) # Xavier initialization\n",
    "\n",
    "# init epoch, history\n",
    "t_ = []\n",
    "loss_ = []\n",
    "\n",
    "## TRAIN\n",
    "hidden = np.zeros(Nh)\n",
    "\n",
    "for epoch in range(0,2000):\n",
    "    loss = 0\n",
    "    h = []\n",
    "    \n",
    "    for id_ in range(0,N):   # Forward pass\n",
    "        \n",
    "        x = input[id_]\n",
    "        \n",
    "        v1 = np.dot(U,x) + np.dot(V,hidden)\n",
    "            \n",
    "        y1 = sigmoid(v1)\n",
    "        if id_ != N-1:\n",
    "            hidden = y1\n",
    "        else:\n",
    "            hidden = 0*y1\n",
    "        h.append(y1)\n",
    "       \n",
    "        if id_ == N-1:\n",
    "            v2 = np.dot(W,y1)\n",
    "            y2 = sigmoid(v2)\n",
    "            d = output[id_]\n",
    "\n",
    "    \n",
    "    for id__ in range(0,N):   # Backward pass\n",
    "        id_ = N-1 - id__\n",
    "\n",
    "        # delta rule\n",
    "        if id_ == N-1:\n",
    "            e = y2 - d\n",
    "            delta = y2*(1-y2)*e\n",
    "        \n",
    "            e1 = np.dot(np.transpose(W),delta)\n",
    "            delta1 = y1*(1-y1)*e1\n",
    "        \n",
    "            x = input[id_]\n",
    "            W = W - lr_rate*np.dot(np.transpose([delta]),[y1])\n",
    "            U = U - lr_rate*np.dot(np.transpose([delta1]),[x])\n",
    "            V = V - lr_rate*np.dot(np.transpose([delta1]),[h[id_-1]])\n",
    "                \n",
    "            loss = loss + 1/2*np.linalg.norm(e)\n",
    "            \n",
    "        elif id_ == N-2:\n",
    "            e2 = np.dot(np.transpose(V),delta1)\n",
    "            y1 = h[id_]\n",
    "            delta2 = y1*(1-y1)*e2\n",
    "            \n",
    "            x = input[id_]\n",
    "            U = U - lr_rate*np.dot(np.transpose([delta2]),[x])\n",
    "            V = V - lr_rate*np.dot(np.transpose([delta2]),[h[id_-1]])\n",
    "\n",
    "            loss = loss + 1/2*np.linalg.norm(e)\n",
    "\n",
    "        elif id_ == N-3:\n",
    "            e3 = np.dot(np.transpose(V),delta2)\n",
    "            y1 = h[id_]\n",
    "            delta3 = y1*(1-y1)*e3\n",
    "            \n",
    "            x = input[id_]\n",
    "            U = U - lr_rate*np.dot(np.transpose([delta3]),[x])\n",
    "            V = V - lr_rate*np.dot(np.transpose([delta3]),[h[id_-1]])\n",
    "            \n",
    "            loss = loss + 1/2*np.linalg.norm(e)\n",
    "            \n",
    "        elif id_ == N-4:\n",
    "            e4 = np.dot(np.transpose(V),delta3)\n",
    "            y1 = h[id_]\n",
    "            delta4 = y1*(1-y1)*e4\n",
    "            \n",
    "            x = input[id_]\n",
    "            U = U - lr_rate*np.dot(np.transpose([delta4]),[x])\n",
    "            V = V - lr_rate*np.dot(np.transpose([delta4]),[h[id_-1]])\n",
    "            \n",
    "            loss = loss + 1/2*np.linalg.norm(e)\n",
    "\n",
    "        \n",
    "    if np.mod(epoch,50) == 0:\n",
    "        print(epoch,\"th epoch trained \\t|\", loss)\n",
    "            \n",
    "        t_ = np.append(t_,epoch)\n",
    "        loss_ = np.append(loss_,loss)\n",
    "\n",
    "\n",
    "plt.figure(num=0,figsize=[10,5])\n",
    "plt.plot(t_,loss_,marker=\"\")\n",
    "plt.title('Loss decay')\n",
    "plt.xlabel('epoch',FontSize=20)\n",
    "plt.ylabel('Loss',FontSize=20)\n",
    "plt.show()\n",
    "print('======================= FINISH =========================')"
   ]
  },
  {
   "cell_type": "code",
   "execution_count": 28,
   "id": "b917a16b",
   "metadata": {},
   "outputs": [
    {
     "name": "stdout",
     "output_type": "stream",
     "text": [
      "[0.15935671 0.15481156 0.14811805 0.86033927]\n",
      "H\n"
     ]
    }
   ],
   "source": [
    "for id_ in range(0,N):\n",
    "    x = input[id_]\n",
    "        \n",
    "    v1 = np.dot(U,x) + np.dot(V,hidden)\n",
    "            \n",
    "    y1 = sigmoid(v1)\n",
    "\n",
    "    hidden = y1\n",
    "       \n",
    "    if id_ == N-1:\n",
    "        v2 = np.dot(W,y1)\n",
    "        y2 = sigmoid(v2)\n",
    "\n",
    "        print(y2)\n",
    "        print(indx2char[np.argmax(y2)])"
   ]
  },
  {
   "cell_type": "code",
   "execution_count": null,
   "id": "ccd83c89",
   "metadata": {},
   "outputs": [],
   "source": []
  }
 ],
 "metadata": {
  "kernelspec": {
   "display_name": "Python 3",
   "language": "python",
   "name": "python3"
  },
  "language_info": {
   "codemirror_mode": {
    "name": "ipython",
    "version": 3
   },
   "file_extension": ".py",
   "mimetype": "text/x-python",
   "name": "python",
   "nbconvert_exporter": "python",
   "pygments_lexer": "ipython3",
   "version": "3.6.9"
  }
 },
 "nbformat": 4,
 "nbformat_minor": 5
}
